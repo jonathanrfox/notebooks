{
 "cells": [
  {
   "cell_type": "code",
   "execution_count": 1,
   "metadata": {
    "collapsed": true
   },
   "outputs": [],
   "source": [
    "import math\n",
    "import cairo"
   ]
  },
  {
   "cell_type": "code",
   "execution_count": 4,
   "metadata": {
    "collapsed": false
   },
   "outputs": [
    {
     "data": {
      "text/plain": [
       "(1, 1)"
      ]
     },
     "execution_count": 4,
     "metadata": {},
     "output_type": "execute_result"
    }
   ],
   "source": [
    "cairo.HAS_SVG_SURFACE, cairo.HAS_PNG_FUNCTIONS"
   ]
  },
  {
   "cell_type": "code",
   "execution_count": 43,
   "metadata": {
    "collapsed": true
   },
   "outputs": [],
   "source": [
    "def compute_next(s, rules):\n",
    "    return ''.join(map(lambda x: rules[x], s))"
   ]
  },
  {
   "cell_type": "code",
   "execution_count": 161,
   "metadata": {
    "collapsed": true
   },
   "outputs": [],
   "source": [
    "def generate(prod, rules, n):\n",
    "    if n == 0:\n",
    "        return prod\n",
    "    return generate(compute_next(prod, rules), rules, n - 1)"
   ]
  },
  {
   "cell_type": "code",
   "execution_count": 132,
   "metadata": {
    "collapsed": true
   },
   "outputs": [],
   "source": [
    "def add_identity_rules(rules):\n",
    "    keys = set(rules.keys())\n",
    "    values = set([ch for v in rules.values() for ch in v])\n",
    "    nonkeys = values.difference(keys)\n",
    "    return {**rules, **{k: k for k in nonkeys}}"
   ]
  },
  {
   "cell_type": "code",
   "execution_count": 158,
   "metadata": {
    "collapsed": true
   },
   "outputs": [],
   "source": [
    "class LSystemCanvas(object):\n",
    "    \n",
    "    def __init__(self, width, height, step):\n",
    "        self.step = step\n",
    "        self.surface = cairo.ImageSurface(cairo.FORMAT_ARGB32, width, height)\n",
    "        self.ctx = cairo.Context(self.surface)\n",
    "        self.ctx.scale(width, height)\n",
    "        self.ctx.translate(0, 1)\n",
    "        self.ctx.rotate(math.radians(180))\n",
    "        \n",
    "    def draw_line(self):\n",
    "        self.ctx.line_to(0, self.step)\n",
    "        self.ctx.translate(0, self.step)        \n",
    "    \n",
    "    def rotate(self, degrees):\n",
    "        self.ctx.rotate(math.radians(degrees))\n",
    "        \n",
    "    def save_png(self, filename, color=(0, 0, 0)):\n",
    "        # add color validation?\n",
    "        self.ctx.set_source_rgb(*color)\n",
    "        self.ctx.set_line_width(0.001)\n",
    "        self.ctx.stroke()\n",
    "        self.surface.write_to_png(f'{filename}.png')"
   ]
  },
  {
   "cell_type": "code",
   "execution_count": 139,
   "metadata": {
    "collapsed": true
   },
   "outputs": [],
   "source": [
    "class QuadGosper(object):\n",
    "    axiom = '-B'\n",
    "    rules = add_identity_rules({\n",
    "        'A': 'AA-B-B+A+A-B-BA+B+AAB-A+B+AA+B-AB-B-A+A+BB-',\n",
    "        'B': '+AA-B-B+A+AB+A-BB-A-B+ABB-A-BA+A+B-B-A+A+BB'       \n",
    "    })\n",
    "\n",
    "    @classmethod\n",
    "    def draw(cls, canvas, n=2):\n",
    "        for item in generate(cls.axiom, cls.rules, n):\n",
    "            if item in ['A', 'B']:\n",
    "                canvas.draw_line()\n",
    "            elif item == '-':\n",
    "                canvas.rotate(90)\n",
    "            elif item == '+':\n",
    "                canvas.rotate(-90)"
   ]
  },
  {
   "cell_type": "code",
   "execution_count": 162,
   "metadata": {
    "collapsed": true
   },
   "outputs": [],
   "source": [
    "canvas = LSystemCanvas(2000, 2000, 0.01)\n",
    "QuadGosper.draw(canvas, 4)\n",
    "canvas.save_png('quad_gosper')"
   ]
  },
  {
   "cell_type": "code",
   "execution_count": 148,
   "metadata": {
    "collapsed": true
   },
   "outputs": [],
   "source": [
    "class Hilbert(object):\n",
    "    axiom = 'A'\n",
    "    rules = add_identity_rules({\n",
    "        'A': '-BF+AFA+FB-',\n",
    "        'B': '+AF-BFB-FA+'\n",
    "    })\n",
    "    \n",
    "    @classmethod\n",
    "    def draw(cls, canvas, n=2):\n",
    "        for item in generate(cls.axiom, cls.rules, n):\n",
    "            if item == 'F':\n",
    "                canvas.draw_line()\n",
    "            elif item == '-':\n",
    "                canvas.rotate(90)\n",
    "            elif item == '+':\n",
    "                canvas.rotate(-90)"
   ]
  },
  {
   "cell_type": "code",
   "execution_count": 149,
   "metadata": {
    "collapsed": true
   },
   "outputs": [],
   "source": [
    "canvas = LSystemCanvas(2000, 2000, 0.005)\n",
    "Hilbert.draw(canvas, 8)\n",
    "canvas.save_png('hilbert')"
   ]
  },
  {
   "cell_type": "code",
   "execution_count": 156,
   "metadata": {
    "collapsed": true
   },
   "outputs": [],
   "source": [
    "class Moore(object):\n",
    "    axiom = 'LFL+F+LFL'\n",
    "    rules = add_identity_rules({\n",
    "        'L': '-RF+LFL+FR-',\n",
    "        'R': '+LF-RFR-FL+'\n",
    "    })\n",
    "    \n",
    "    @classmethod\n",
    "    def draw(cls, canvas, n=2):\n",
    "        for item in generate(cls.axiom, cls.rules, n):\n",
    "            if item == 'F':\n",
    "                canvas.draw_line()\n",
    "            elif item == '-':\n",
    "                canvas.rotate(-90)\n",
    "            elif item == '+':\n",
    "                canvas.rotate(90)"
   ]
  },
  {
   "cell_type": "code",
   "execution_count": null,
   "metadata": {
    "collapsed": true
   },
   "outputs": [],
   "source": [
    "canvas = LSystemCanvas(2000, 2000, 0.005)\n",
    "Moore.draw(canvas, 8)\n",
    "canvas.save_png('moore')"
   ]
  },
  {
   "cell_type": "code",
   "execution_count": null,
   "metadata": {
    "collapsed": true
   },
   "outputs": [],
   "source": [
    "# END"
   ]
  },
  {
   "cell_type": "code",
   "execution_count": 143,
   "metadata": {
    "collapsed": false
   },
   "outputs": [],
   "source": [
    "# class QuadGosper(object):\n",
    "#     axiom = '-B'\n",
    "#     rules = add_identity_rules({\n",
    "#         'A': 'AA-B-B+A+A-B-BA+B+AAB-A+B+AA+B-AB-B-A+A+BB-',\n",
    "#         'B': '+AA-B-B+A+AB+A-BB-A-B+ABB-A-BA+A+B-B-A+A+BB'       \n",
    "#     })\n",
    "    \n",
    "#     def __init__(self, ctx):\n",
    "#         self.ctx = ctx\n",
    "#         self.ctx.translate(0, 1)\n",
    "#         self.ctx.rotate(math.radians(180))\n",
    "        \n",
    "#     def draw(self, n=2):\n",
    "#         step = .005\n",
    "#         for item in generate(QuadGosper.axiom, QuadGosper.rules, n):\n",
    "#             if item in ['A', 'B']:\n",
    "#                 self.ctx.line_to(0, step)\n",
    "#                 self.ctx.translate(0, step)\n",
    "#             elif item == '-':\n",
    "#                 self.ctx.rotate(math.radians(90))\n",
    "#             elif item == '+':\n",
    "#                 self.ctx.rotate(math.radians(-90))"
   ]
  },
  {
   "cell_type": "code",
   "execution_count": 144,
   "metadata": {
    "collapsed": false
   },
   "outputs": [
    {
     "data": {
      "text/plain": [
       "'-+AA-B-B+A+A-B-BA+B+AAB-A+B+AA+B-AB-B-A+A+BB-AA-B-B+A+A-B-BA+B+AAB-A+B+AA+B-AB-B-A+A+BB--+AA-B-B+A+AB+A-BB-A-B+ABB-A-BA+A+B-B-A+A+BB-+AA-B-B+A+AB+A-BB-A-B+ABB-A-BA+A+B-B-A+A+BB+AA-B-B+A+A-B-BA+B+AAB-A+B+AA+B-AB-B-A+A+BB-+AA-B-B+A+A-B-BA+B+AAB-A+B+AA+B-AB-B-A+A+BB-+AA-B-B+A+AB+A-BB-A-B+ABB-A-BA+A+B-B-A+A+BB+AA-B-B+A+A-B-BA+B+AAB-A+B+AA+B-AB-B-A+A+BB--+AA-B-B+A+AB+A-BB-A-B+ABB-A-BA+A+B-B-A+A+BB+AA-B-B+A+AB+A-BB-A-B+ABB-A-BA+A+B-B-A+A+BB-AA-B-B+A+A-B-BA+B+AAB-A+B+AA+B-AB-B-A+A+BB--+AA-B-B+A+AB+A-BB-A-B+ABB-A-BA+A+B-B-A+A+BB+AA-B-B+A+A-B-BA+B+AAB-A+B+AA+B-AB-B-A+A+BB-+AA-B-B+A+AB+A-BB-A-B+ABB-A-BA+A+B-B-A+A+BB+AA-B-B+A+AB+A-BB-A-B+ABB-A-BA+A+B-B-A+A+BB-AA-B-B+A+A-B-BA+B+AAB-A+B+AA+B-AB-B-A+A+BB--+AA-B-B+A+AB+A-BB-A-B+ABB-A-BA+A+B-B-A+A+BBAA-B-B+A+A-B-BA+B+AAB-A+B+AA+B-AB-B-A+A+BB-+AA-B-B+A+A-B-BA+B+AAB-A+B+AA+B-AB-B-A+A+BB-++AA-B-B+A+AB+A-BB-A-B+ABB-A-BA+A+B-B-A+A+BB-+AA-B-B+A+AB+A-BB-A-B+ABB-A-BA+A+B-B-A+A+BB-AA-B-B+A+A-B-BA+B+AAB-A+B+AA+B-AB-B-A+A+BB-+AA-B-B+A+A-B-BA+B+AAB-A+B+AA+B-AB-B-A+A+BB-++AA-B-B+A+AB+A-BB-A-B+ABB-A-BA+A+B-B-A+A+BB+AA-B-B+A+AB+A-BB-A-B+ABB-A-BA+A+B-B-A+A+BB'"
      ]
     },
     "execution_count": 144,
     "metadata": {},
     "output_type": "execute_result"
    }
   ],
   "source": [
    "# generate(QuadGosper.axiom, QuadGosper.rules, 2)"
   ]
  },
  {
   "cell_type": "code",
   "execution_count": 145,
   "metadata": {
    "collapsed": false
   },
   "outputs": [],
   "source": [
    "# WIDTH, HEIGHT = 2000, 2000\n",
    "# surface = cairo.ImageSurface(cairo.FORMAT_ARGB32, WIDTH, HEIGHT)\n",
    "# ctx = cairo.Context(surface)\n",
    "# ctx.scale(WIDTH, HEIGHT)\n",
    "\n",
    "# lsys = QuadGosper(ctx)\n",
    "# lsys.draw(4)\n",
    "\n",
    "# ctx.set_source_rgb(0, 0, 0)\n",
    "# ctx.set_line_width(0.001)\n",
    "# ctx.stroke()\n",
    "\n",
    "# surface.write_to_png(\"example.png\")"
   ]
  },
  {
   "cell_type": "code",
   "execution_count": 117,
   "metadata": {
    "collapsed": true
   },
   "outputs": [],
   "source": [
    "# class Hilbert(LSystem):\n",
    "#     axiom = 'A'\n",
    "#     rules = add_identity_rules({\n",
    "#         'A': '-BF+AFA+FB-',\n",
    "#         'B': '+AF-BFB-FA+'\n",
    "#     })\n",
    "    \n",
    "#     def __init__(self, ctx):\n",
    "#         self.ctx = ctx\n",
    "#         self.ctx.translate(0, 1)\n",
    "#         self.ctx.rotate(math.radians(180))\n",
    "        \n",
    "#     def draw(self, n=2):\n",
    "#         step = .005\n",
    "#         for item in generate(Hilbert.axiom, Hilbert.rules, n):\n",
    "#             if item == 'F':\n",
    "#                 self.ctx.line_to(0, step)\n",
    "#                 self.ctx.translate(0, step)\n",
    "#             elif item == '-':\n",
    "#                 self.ctx.rotate(math.radians(90))\n",
    "#             elif item == '+':\n",
    "#                 self.ctx.rotate(math.radians(-90))"
   ]
  },
  {
   "cell_type": "code",
   "execution_count": null,
   "metadata": {
    "collapsed": true
   },
   "outputs": [],
   "source": [
    "# surface = cairo.ImageSurface(cairo.FORMAT_ARGB32, WIDTH, HEIGHT)\n",
    "# ctx = cairo.Context(surface)\n",
    "\n",
    "# surface.write_to_png(f'hilbert.png')"
   ]
  },
  {
   "cell_type": "code",
   "execution_count": null,
   "metadata": {
    "collapsed": true
   },
   "outputs": [],
   "source": [
    "# def draw(filename, lsystem, width=2000, height=2000):\n",
    "#     surface = cairo.ImageSurface(cairo.FORMAT_ARGB32, WIDTH, HEIGHT)\n",
    "#     ctx = cairo.Context(surface)\n",
    "#     ctx.scale(WIDTH, HEIGHT)\n",
    "\n",
    "#     lsys = Hilbert(ctx)\n",
    "#     lsys.draw(8)\n",
    "\n",
    "#     ctx.set_source_rgb(0, 0, 0)\n",
    "#     ctx.set_line_width(0.001)\n",
    "#     ctx.stroke()\n",
    "\n",
    "#     surface.write_to_png(f'{filename}.png')"
   ]
  },
  {
   "cell_type": "code",
   "execution_count": 118,
   "metadata": {
    "collapsed": false
   },
   "outputs": [],
   "source": [
    "# WIDTH, HEIGHT = 2000, 2000\n",
    "# surface = cairo.ImageSurface(cairo.FORMAT_ARGB32, WIDTH, HEIGHT)\n",
    "# ctx = cairo.Context(surface)\n",
    "# ctx.scale(WIDTH, HEIGHT)\n",
    "\n",
    "# lsys = Hilbert(ctx)\n",
    "# lsys.draw(8)\n",
    "\n",
    "# ctx.set_source_rgb(0, 0, 0)\n",
    "# ctx.set_line_width(0.001)\n",
    "# ctx.stroke()\n",
    "\n",
    "# surface.write_to_png(\"example2.png\")"
   ]
  }
 ],
 "metadata": {
  "kernelspec": {
   "display_name": "Python 3",
   "language": "python",
   "name": "python3"
  },
  "language_info": {
   "codemirror_mode": {
    "name": "ipython",
    "version": 3
   },
   "file_extension": ".py",
   "mimetype": "text/x-python",
   "name": "python",
   "nbconvert_exporter": "python",
   "pygments_lexer": "ipython3",
   "version": "3.6.1"
  }
 },
 "nbformat": 4,
 "nbformat_minor": 2
}
