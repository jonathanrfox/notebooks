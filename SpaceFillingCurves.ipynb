{
 "cells": [
  {
   "cell_type": "code",
   "execution_count": 1,
   "metadata": {},
   "outputs": [],
   "source": [
    "import math\n",
    "import cairo\n",
    "import PIL\n",
    "from PIL import Image, ImageOps"
   ]
  },
  {
   "cell_type": "code",
   "execution_count": 4,
   "metadata": {},
   "outputs": [
    {
     "data": {
      "text/plain": [
       "(1, 1)"
      ]
     },
     "execution_count": 4,
     "metadata": {},
     "output_type": "execute_result"
    }
   ],
   "source": [
    "cairo.HAS_SVG_SURFACE, cairo.HAS_PNG_FUNCTIONS"
   ]
  },
  {
   "cell_type": "code",
   "execution_count": 9,
   "metadata": {},
   "outputs": [],
   "source": [
    "def generate(prod, rules, n):\n",
    "    if n == 0:\n",
    "        return prod\n",
    "    return generate(''.join(map(lambda x: rules[x], prod)), rules, n - 1)"
   ]
  },
  {
   "cell_type": "code",
   "execution_count": 3,
   "metadata": {},
   "outputs": [],
   "source": [
    "def add_identity_rules(rules):\n",
    "    keys = set(rules.keys())\n",
    "    values = set([ch for v in rules.values() for ch in v])\n",
    "    nonkeys = values.difference(keys)\n",
    "    return {**rules, **{k: k for k in nonkeys}}"
   ]
  },
  {
   "cell_type": "code",
   "execution_count": 169,
   "metadata": {},
   "outputs": [],
   "source": [
    "class LSystemCanvas(object):\n",
    "    \n",
    "    def __init__(self, width, height, step, line_width=0.001, line_color=(0, 0, 0)):\n",
    "        # add line_color validation?\n",
    "        self.step = step\n",
    "        self.line_width = line_width\n",
    "        self.line_color = line_color\n",
    "        self.surface = cairo.ImageSurface(cairo.FORMAT_ARGB32, width, height)\n",
    "        self.ctx = cairo.Context(self.surface)\n",
    "        self.ctx.scale(width, height)\n",
    "        self.ctx.translate(line_width, 1)\n",
    "        self.ctx.rotate(math.radians(180))\n",
    "        \n",
    "    def draw_line(self):\n",
    "        self.ctx.line_to(0, self.step)\n",
    "        self.ctx.translate(0, self.step)        \n",
    "    \n",
    "    def rotate(self, degrees):\n",
    "        self.ctx.rotate(math.radians(degrees))\n",
    "        \n",
    "    def save_png(self, filename):\n",
    "        self.ctx.set_source_rgb(*self.line_color)\n",
    "        self.ctx.set_line_width(self.line_width)\n",
    "        self.ctx.stroke()\n",
    "        self.surface.write_to_png(f'{filename.replace(\".png\", \"\")}.png')"
   ]
  },
  {
   "cell_type": "code",
   "execution_count": 5,
   "metadata": {},
   "outputs": [],
   "source": [
    "class QuadGosper(object):\n",
    "    axiom = '-B'\n",
    "    rules = add_identity_rules({\n",
    "        'A': 'AA-B-B+A+A-B-BA+B+AAB-A+B+AA+B-AB-B-A+A+BB-',\n",
    "        'B': '+AA-B-B+A+AB+A-BB-A-B+ABB-A-BA+A+B-B-A+A+BB'       \n",
    "    })\n",
    "\n",
    "    @classmethod\n",
    "    def draw(cls, canvas, n=2):\n",
    "        for item in generate(cls.axiom, cls.rules, n):\n",
    "            if item in ['A', 'B']:\n",
    "                canvas.draw_line()\n",
    "            elif item == '-':\n",
    "                canvas.rotate(90)\n",
    "            elif item == '+':\n",
    "                canvas.rotate(-90)"
   ]
  },
  {
   "cell_type": "code",
   "execution_count": 162,
   "metadata": {
    "collapsed": true
   },
   "outputs": [],
   "source": [
    "canvas = LSystemCanvas(2000, 2000, 0.01)\n",
    "QuadGosper.draw(canvas, 4)\n",
    "canvas.save_png('quad_gosper')"
   ]
  },
  {
   "cell_type": "code",
   "execution_count": 6,
   "metadata": {},
   "outputs": [],
   "source": [
    "class Hilbert(object):\n",
    "    axiom = 'A'\n",
    "    rules = add_identity_rules({\n",
    "        'A': '-BF+AFA+FB-',\n",
    "        'B': '+AF-BFB-FA+'\n",
    "    })\n",
    "    \n",
    "    @classmethod\n",
    "    def draw(cls, canvas, n=2):\n",
    "        for item in generate(cls.axiom, cls.rules, n):\n",
    "            if item == 'F':\n",
    "                canvas.draw_line()\n",
    "            elif item == '-':\n",
    "                canvas.rotate(90)\n",
    "            elif item == '+':\n",
    "                canvas.rotate(-90)"
   ]
  },
  {
   "cell_type": "code",
   "execution_count": 149,
   "metadata": {
    "collapsed": true
   },
   "outputs": [],
   "source": [
    "canvas = LSystemCanvas(2000, 2000, 0.005)\n",
    "Hilbert.draw(canvas, 8)\n",
    "canvas.save_png('hilbert')"
   ]
  },
  {
   "cell_type": "code",
   "execution_count": 7,
   "metadata": {},
   "outputs": [],
   "source": [
    "class Moore(object):\n",
    "    axiom = 'LFL+F+LFL'\n",
    "    rules = add_identity_rules({\n",
    "        'L': '-RF+LFL+FR-',\n",
    "        'R': '+LF-RFR-FL+'\n",
    "    })\n",
    "    \n",
    "    @classmethod\n",
    "    def draw(cls, canvas, n=2):\n",
    "        for item in generate(cls.axiom, cls.rules, n):\n",
    "            if item == 'F':\n",
    "                canvas.draw_line()\n",
    "            elif item == '-':\n",
    "                canvas.rotate(-90)\n",
    "            elif item == '+':\n",
    "                canvas.rotate(90)"
   ]
  },
  {
   "cell_type": "code",
   "execution_count": 207,
   "metadata": {},
   "outputs": [],
   "source": [
    "canvas = LSystemCanvas(2000, 2000, 0.005)\n",
    "Moore.draw(canvas, 8)\n",
    "canvas.save_png('moore')"
   ]
  },
  {
   "cell_type": "code",
   "execution_count": 170,
   "metadata": {},
   "outputs": [],
   "source": [
    "canvas = LSystemCanvas(200, 200, 0.2, 0.1)\n",
    "Hilbert.draw(canvas, 3)\n",
    "canvas.save_png('hilbert_200')"
   ]
  },
  {
   "cell_type": "code",
   "execution_count": 171,
   "metadata": {},
   "outputs": [],
   "source": [
    "canvas = LSystemCanvas(200, 200, 0.2, 0.1)\n",
    "QuadGosper.draw(canvas, 2)\n",
    "canvas.save_png('quadgosper_200')"
   ]
  },
  {
   "cell_type": "code",
   "execution_count": 172,
   "metadata": {},
   "outputs": [],
   "source": [
    "h = Image.open('hilbert_200.png')\n",
    "qg = Image.open('quadgosper_200.png')\n",
    "b1 = Image.blend(h, qg, 0.5)"
   ]
  },
  {
   "cell_type": "code",
   "execution_count": 173,
   "metadata": {},
   "outputs": [
    {
     "data": {
      "image/png": "[encoded data removed]",
      "text/plain": [
       "<PIL.PngImagePlugin.PngImageFile image mode=RGBA size=200x200 at 0x7F75CD509470>"
      ]
     },
     "execution_count": 173,
     "metadata": {},
     "output_type": "execute_result"
    }
   ],
   "source": [
    "h"
   ]
  },
  {
   "cell_type": "code",
   "execution_count": 175,
   "metadata": {},
   "outputs": [
    {
     "data": {
      "image/png": "[encoded data removed]",
      "text/plain": [
       "<PIL.PngImagePlugin.PngImageFile image mode=RGBA size=200x200 at 0x7F75CD509278>"
      ]
     },
     "execution_count": 175,
     "metadata": {},
     "output_type": "execute_result"
    }
   ],
   "source": [
    "qg"
   ]
  },
  {
   "cell_type": "code",
   "execution_count": 134,
   "metadata": {},
   "outputs": [
    {
     "data": {
      "text/plain": [
       "[(12900, (0, 0, 0, 0)), (15600, (0, 0, 0, 127)), (11500, (0, 0, 0, 255))]"
      ]
     },
     "execution_count": 134,
     "metadata": {},
     "output_type": "execute_result"
    }
   ],
   "source": [
    "b1.getcolors()"
   ]
  },
  {
   "cell_type": "code",
   "execution_count": 176,
   "metadata": {},
   "outputs": [
    {
     "data": {
      "image/png": "[encoded data removed]",
      "text/plain": [
       "<PIL.Image.Image image mode=RGBA size=200x200 at 0x7F75CD5095F8>"
      ]
     },
     "execution_count": 176,
     "metadata": {},
     "output_type": "execute_result"
    }
   ],
   "source": [
    "b1"
   ]
  },
  {
   "cell_type": "code",
   "execution_count": 203,
   "metadata": {},
   "outputs": [],
   "source": [
    "new_im = Image.new('1', (200, 200))"
   ]
  },
  {
   "cell_type": "code",
   "execution_count": 204,
   "metadata": {},
   "outputs": [
    {
     "data": {
      "image/png": "[encoded data removed]",
      "text/plain": [
       "<PIL.Image.Image image mode=1 size=240x240 at 0x7F75CD516550>"
      ]
     },
     "execution_count": 204,
     "metadata": {},
     "output_type": "execute_result"
    }
   ],
   "source": [
    "# black if black else white\n",
    "data = [0 if v == (0, 0, 0, 255) else 1 for v in b1.getdata()]\n",
    "new_im.putdata(data)\n",
    "ImageOps.expand(new_im, border=20, fill=0)"
   ]
  },
  {
   "cell_type": "code",
   "execution_count": 205,
   "metadata": {},
   "outputs": [
    {
     "data": {
      "image/png": "[encoded data removed]",
      "text/plain": [
       "<PIL.Image.Image image mode=1 size=240x240 at 0x7F75CD516A20>"
      ]
     },
     "execution_count": 205,
     "metadata": {},
     "output_type": "execute_result"
    }
   ],
   "source": [
    "# white if black else black\n",
    "data = [1 if v == (0, 0, 0, 255) else 0 for v in b1.getdata()]\n",
    "new_im.putdata(data)\n",
    "ImageOps.expand(new_im, border=20, fill=0)"
   ]
  },
  {
   "cell_type": "code",
   "execution_count": 206,
   "metadata": {},
   "outputs": [
    {
     "data": {
      "image/png": "[encoded data removed]",
      "text/plain": [
       "<PIL.Image.Image image mode=1 size=240x240 at 0x7F75CD516940>"
      ]
     },
     "execution_count": 206,
     "metadata": {},
     "output_type": "execute_result"
    }
   ],
   "source": [
    "# black if white else white\n",
    "data = [0 if v == (0, 0, 0, 0) else 1 for v in b1.getdata()]\n",
    "new_im.putdata(data)\n",
    "ImageOps.expand(new_im, border=20, fill=0)"
   ]
  }
 ],
 "metadata": {
  "kernelspec": {
   "display_name": "Python 3",
   "language": "python",
   "name": "python3"
  },
  "language_info": {
   "codemirror_mode": {
    "name": "ipython",
    "version": 3
   },
   "file_extension": ".py",
   "mimetype": "text/x-python",
   "name": "python",
   "nbconvert_exporter": "python",
   "pygments_lexer": "ipython3",
   "version": "3.6.1"
  }
 },
 "nbformat": 4,
 "nbformat_minor": 2
}
