{
 "cells": [
  {
   "cell_type": "code",
   "execution_count": 26,
   "metadata": {
    "collapsed": true,
    "deletable": true,
    "editable": true
   },
   "outputs": [],
   "source": [
    "import asyncio\n",
    "import datetime\n",
    "import functools\n",
    "from functools import lru_cache\n",
    "import json\n",
    "import os\n",
    "from pprint import pprint\n",
    "import xml.etree.ElementTree as ET\n",
    "\n",
    "import aiohttp\n",
    "import async_timeout\n",
    "import pandas as pd\n",
    "import py2neo\n",
    "import requests"
   ]
  },
  {
   "cell_type": "code",
   "execution_count": 65,
   "metadata": {
    "collapsed": false,
    "deletable": true,
    "editable": true
   },
   "outputs": [],
   "source": [
    "pd.set_option('notebook_repr_html', False)"
   ]
  },
  {
   "cell_type": "code",
   "execution_count": 74,
   "metadata": {
    "collapsed": false,
    "deletable": true,
    "editable": true
   },
   "outputs": [],
   "source": [
    "def parse_xml(xml_str):\n",
    "    parsed = ET.fromstring(xml_str)\n",
    "    gms = parsed.find('gms')\n",
    "    week = int(gms.get('w'))\n",
    "    year = int(gms.get('y'))\n",
    "    for gm in gms:\n",
    "        yield {\n",
    "            'home_team': gm.get('hnn'),\n",
    "            'home_score': int(gm.get('hs')),\n",
    "            'away_team': gm.get('vnn'),\n",
    "            'away_score': int(gm.get('vs')),\n",
    "            'week': week,\n",
    "            'year': year\n",
    "        }"
   ]
  },
  {
   "cell_type": "code",
   "execution_count": 28,
   "metadata": {
    "collapsed": true
   },
   "outputs": [],
   "source": [
    "def get_scores_params(week, season, season_type):\n",
    "    if isinstance(week, str):\n",
    "        week = int(week)\n",
    "    \n",
    "    if week < 1 or week > 18:\n",
    "        raise ValueError('Week should be in the range: (1, 18)')\n",
    "    \n",
    "    now = datetime.datetime.now()\n",
    "    \n",
    "    if season is None:\n",
    "        season = now.year\n",
    "    else:\n",
    "        if isinstance(season, str):\n",
    "            season = int(season)\n",
    "\n",
    "        if season < 1970 or season > now.year:\n",
    "            raise ValueError(f'Season should be in the range: (1970, {now.year})')\n",
    "        \n",
    "    return dict(\n",
    "        season=str(season),\n",
    "        seasonType=season_type,\n",
    "        week=str(week)\n",
    "    )"
   ]
  },
  {
   "cell_type": "code",
   "execution_count": 29,
   "metadata": {
    "collapsed": false,
    "deletable": true,
    "editable": true
   },
   "outputs": [],
   "source": [
    "def get_scores_sync(week, season=None, season_type='REG'):\n",
    "    params = get_scores_params(week, season, season_type)\n",
    "    r = requests.get('http://nfl.com/ajax/scorestrip/', params=params)\n",
    "    \n",
    "    if r.status_code == requests.status_codes.codes.ok:\n",
    "        return parse_xml(r.text)"
   ]
  },
  {
   "cell_type": "code",
   "execution_count": 30,
   "metadata": {
    "collapsed": true,
    "deletable": true,
    "editable": true
   },
   "outputs": [],
   "source": [
    "async def get_scores_async(week, season=None, season_type='REG'):\n",
    "    params = get_scores_params(week, season, season_type)\n",
    "    async with aiohttp.ClientSession() as session:\n",
    "        async with async_timeout.timeout(10):\n",
    "            async with session.get('http://nfl.com/ajax/scorestrip/', params=params) as resp:\n",
    "                return await resp.text()"
   ]
  },
  {
   "cell_type": "code",
   "execution_count": 99,
   "metadata": {
    "collapsed": true,
    "deletable": true,
    "editable": true
   },
   "outputs": [],
   "source": [
    "async def main(async_scores):\n",
    "    result = await asyncio.gather(*(get_scores_async(week, season='2016') for week in range(1, 18)))\n",
    "    for item in result:\n",
    "        async_scores.extend(list(parse_xml(item)))"
   ]
  },
  {
   "cell_type": "code",
   "execution_count": 89,
   "metadata": {
    "collapsed": false,
    "deletable": true,
    "editable": true
   },
   "outputs": [
    {
     "name": "stdout",
     "output_type": "stream",
     "text": [
      "CPU times: user 156 ms, sys: 24 ms, total: 180 ms\n",
      "Wall time: 5.94 s\n"
     ]
    }
   ],
   "source": [
    "%%time\n",
    "async_scores = []\n",
    "loop = asyncio.get_event_loop()\n",
    "loop.run_until_complete(main(async_scores))"
   ]
  },
  {
   "cell_type": "code",
   "execution_count": 90,
   "metadata": {
    "collapsed": false,
    "deletable": true,
    "editable": true
   },
   "outputs": [
    {
     "data": {
      "text/plain": [
       "256"
      ]
     },
     "execution_count": 90,
     "metadata": {},
     "output_type": "execute_result"
    }
   ],
   "source": [
    "len(async_scores)"
   ]
  },
  {
   "cell_type": "code",
   "execution_count": 69,
   "metadata": {
    "collapsed": false,
    "deletable": true,
    "editable": true
   },
   "outputs": [
    {
     "name": "stdout",
     "output_type": "stream",
     "text": [
      "CPU times: user 504 ms, sys: 4 ms, total: 508 ms\n",
      "Wall time: 14.5 s\n"
     ]
    }
   ],
   "source": [
    "%%time\n",
    "sync_scores = [game for week in range(1, 18) for game in get_scores_sync(week, season='2016')]"
   ]
  },
  {
   "cell_type": "code",
   "execution_count": 94,
   "metadata": {
    "collapsed": false,
    "deletable": true,
    "editable": true
   },
   "outputs": [
    {
     "data": {
      "text/plain": [
       "256"
      ]
     },
     "execution_count": 94,
     "metadata": {},
     "output_type": "execute_result"
    }
   ],
   "source": [
    "len(sync_scores)"
   ]
  },
  {
   "cell_type": "code",
   "execution_count": 8,
   "metadata": {
    "collapsed": true,
    "deletable": true,
    "editable": true
   },
   "outputs": [],
   "source": [
    "nfl_scores_2016 = './data/nfl_scores_2016.json'"
   ]
  },
  {
   "cell_type": "code",
   "execution_count": 101,
   "metadata": {
    "collapsed": true,
    "deletable": true,
    "editable": true
   },
   "outputs": [],
   "source": [
    "with open(nfl_scores_2016, 'w') as f:\n",
    "    json.dump(async_scores, f)"
   ]
  },
  {
   "cell_type": "code",
   "execution_count": 9,
   "metadata": {
    "collapsed": false,
    "deletable": true,
    "editable": true
   },
   "outputs": [],
   "source": [
    "with open(nfl_scores_2016, 'r') as f:\n",
    "    df = pd.DataFrame(json.load(f))"
   ]
  },
  {
   "cell_type": "code",
   "execution_count": 143,
   "metadata": {
    "collapsed": false,
    "deletable": true,
    "editable": true
   },
   "outputs": [
    {
     "data": {
      "text/plain": [
       "   away_score   away_team  home_score home_team  week  year\n",
       "0          20    panthers          21   broncos     1  2016\n",
       "1          31  buccaneers          24   falcons     1  2016\n",
       "2           7       bills          13    ravens     1  2016\n",
       "3          14       bears          23    texans     1  2016\n",
       "4          27     packers          23   jaguars     1  2016"
      ]
     },
     "execution_count": 143,
     "metadata": {},
     "output_type": "execute_result"
    }
   ],
   "source": [
    "df.head()"
   ]
  },
  {
   "cell_type": "code",
   "execution_count": 106,
   "metadata": {
    "collapsed": false,
    "deletable": true,
    "editable": true
   },
   "outputs": [
    {
     "data": {
      "text/plain": [
       "away_score     int64\n",
       "away_team     object\n",
       "home_score     int64\n",
       "home_team     object\n",
       "week           int64\n",
       "year           int64\n",
       "dtype: object"
      ]
     },
     "execution_count": 106,
     "metadata": {},
     "output_type": "execute_result"
    }
   ],
   "source": [
    "df.dtypes"
   ]
  },
  {
   "cell_type": "code",
   "execution_count": 142,
   "metadata": {
    "collapsed": false,
    "deletable": true,
    "editable": true
   },
   "outputs": [],
   "source": [
    "def team_details(df, team):\n",
    "    team_df = df[(df.away_team == team) | (df.home_team == team)].copy()\n",
    "    \n",
    "    def f(row):\n",
    "        if row.home_team == team:\n",
    "            return row.home_score - row.away_score\n",
    "        elif row.away_team == team:\n",
    "            return row.away_score - row.home_score\n",
    "        else:\n",
    "            return None\n",
    "    \n",
    "    team_df['score_diff'] = team_df.apply(f, axis=1)\n",
    "    return team_df"
   ]
  },
  {
   "cell_type": "code",
   "execution_count": 115,
   "metadata": {
    "collapsed": false,
    "deletable": true,
    "editable": true
   },
   "outputs": [],
   "source": [
    "eagles = team_details(df, 'eagles')"
   ]
  },
  {
   "cell_type": "code",
   "execution_count": 116,
   "metadata": {
    "collapsed": false,
    "deletable": true,
    "editable": true
   },
   "outputs": [
    {
     "data": {
      "text/plain": [
       "     away_score away_team  home_score home_team  week  year  score_diff\n",
       "8            10    browns          29    eagles     1  2016          19\n",
       "31           29    eagles          14     bears     2  2016          15\n",
       "43            3  steelers          34    eagles     3  2016          31\n",
       "65           23    eagles          24     lions     5  2016          -1\n",
       "86           20    eagles          27  redskins     6  2016          -7\n",
       "100          10   vikings          21    eagles     7  2016          11\n",
       "118          23    eagles          29   cowboys     8  2016          -6\n",
       "126          23    eagles          28    giants     9  2016          -5\n",
       "137          15   falcons          24    eagles    10  2016           9\n",
       "158          15    eagles          26  seahawks    11  2016         -11\n",
       "176          27   packers          13    eagles    12  2016         -14\n",
       "181          14    eagles          32   bengals    13  2016         -18\n",
       "200          27  redskins          22    eagles    14  2016          -5\n",
       "213          26    eagles          27    ravens    15  2016          -1\n",
       "224          19    giants          24    eagles    16  2016           5\n",
       "244          13   cowboys          27    eagles    17  2016          14"
      ]
     },
     "execution_count": 116,
     "metadata": {},
     "output_type": "execute_result"
    }
   ],
   "source": [
    "eagles"
   ]
  },
  {
   "cell_type": "code",
   "execution_count": 117,
   "metadata": {
    "collapsed": false,
    "deletable": true,
    "editable": true
   },
   "outputs": [
    {
     "data": {
      "text/plain": [
       "2.25"
      ]
     },
     "execution_count": 117,
     "metadata": {},
     "output_type": "execute_result"
    }
   ],
   "source": [
    "eagles.score_diff.mean()"
   ]
  },
  {
   "cell_type": "code",
   "execution_count": 118,
   "metadata": {
    "collapsed": true,
    "deletable": true,
    "editable": true
   },
   "outputs": [],
   "source": [
    "eagles['total_game_score'] = eagles.away_score + eagles.home_score"
   ]
  },
  {
   "cell_type": "code",
   "execution_count": 119,
   "metadata": {
    "collapsed": false,
    "deletable": true,
    "editable": true
   },
   "outputs": [
    {
     "data": {
      "text/plain": [
       "43.625"
      ]
     },
     "execution_count": 119,
     "metadata": {},
     "output_type": "execute_result"
    }
   ],
   "source": [
    "eagles.total_game_score.mean()"
   ]
  },
  {
   "cell_type": "code",
   "execution_count": 120,
   "metadata": {
    "collapsed": false,
    "deletable": true,
    "editable": true
   },
   "outputs": [
    {
     "name": "stdout",
     "output_type": "stream",
     "text": [
      "eagles won 7 games and lost 9 games.\n"
     ]
    }
   ],
   "source": [
    "games_lost = (eagles.score_diff < 0).sum()\n",
    "games_won = len(eagles.score_diff) - games_lost\n",
    "print(f'eagles won {games_won} games and lost {games_lost} games.')"
   ]
  },
  {
   "cell_type": "markdown",
   "metadata": {
    "deletable": true,
    "editable": true
   },
   "source": [
    "# Neo4j Experiment"
   ]
  },
  {
   "cell_type": "code",
   "execution_count": 2,
   "metadata": {
    "collapsed": true,
    "deletable": true,
    "editable": true
   },
   "outputs": [],
   "source": [
    "graph = py2neo.Graph(bolt=True, password=os.environ.get('NEO4J_PASSWORD', 'neo4j'))"
   ]
  },
  {
   "cell_type": "code",
   "execution_count": 37,
   "metadata": {
    "collapsed": false
   },
   "outputs": [
    {
     "data": {
      "text/plain": [
       "(3, 3, 0)"
      ]
     },
     "execution_count": 37,
     "metadata": {},
     "output_type": "execute_result"
    }
   ],
   "source": [
    "graph.dbms.kernel_version"
   ]
  },
  {
   "cell_type": "code",
   "execution_count": 67,
   "metadata": {
    "collapsed": false,
    "deletable": true,
    "editable": true
   },
   "outputs": [],
   "source": [
    "@lru_cache(maxsize=None)\n",
    "def mkteam(name):\n",
    "    team_node = py2neo.Node('Team', name=name)\n",
    "    graph.create(team_node)\n",
    "    return team_node"
   ]
  },
  {
   "cell_type": "code",
   "execution_count": 59,
   "metadata": {
    "collapsed": true,
    "deletable": true,
    "editable": true
   },
   "outputs": [],
   "source": [
    "def mkgame(week):\n",
    "    game_node = py2neo.Node('Game', week=week)\n",
    "    graph.create(game_node)\n",
    "    return game_node"
   ]
  },
  {
   "cell_type": "code",
   "execution_count": 60,
   "metadata": {
    "collapsed": true,
    "deletable": true,
    "editable": true
   },
   "outputs": [],
   "source": [
    "@lru_cache(maxsize=None)\n",
    "def mkweek(week):\n",
    "    week_node = py2neo.Node('Week', week=week)\n",
    "    graph.create(week_node)\n",
    "    return week_node"
   ]
  },
  {
   "cell_type": "code",
   "execution_count": 61,
   "metadata": {
    "collapsed": true,
    "deletable": true,
    "editable": true
   },
   "outputs": [],
   "source": [
    "@lru_cache(maxsize=None)\n",
    "def mkseason(year):\n",
    "    season_node = py2neo.Node('Season', year=year)\n",
    "    graph.create(season_node)\n",
    "    return season_node"
   ]
  },
  {
   "cell_type": "code",
   "execution_count": null,
   "metadata": {
    "collapsed": false
   },
   "outputs": [],
   "source": [
    "result = graph.run(\"\"\"\n",
    "match(node)\n",
    "detach delete node;\n",
    "\"\"\")"
   ]
  },
  {
   "cell_type": "code",
   "execution_count": 69,
   "metadata": {
    "collapsed": false,
    "deletable": true,
    "editable": true
   },
   "outputs": [
    {
     "name": "stdout",
     "output_type": "stream",
     "text": [
      "CPU times: user 4.52 s, sys: 32 ms, total: 4.56 s\n",
      "Wall time: 19.9 s\n"
     ]
    }
   ],
   "source": [
    "%%time\n",
    "\n",
    "mkseason.cache_clear()\n",
    "mkweek.cache_clear()\n",
    "mkteam.cache_clear()\n",
    "\n",
    "tx = graph.begin()\n",
    "for game in df.itertuples():\n",
    "    season_node = mkseason(int(game.year))\n",
    "    week_node = mkweek(int(game.week))\n",
    "    home_team_node = mkteam(game.home_team)\n",
    "    away_team_node = mkteam(game.away_team)\n",
    "    game_node = mkgame(int(game.week))\n",
    "    \n",
    "    tx.create(py2neo.Relationship(home_team_node, 'PLAYED', game_node, points=int(game.home_score), was_home=True))\n",
    "    tx.create(py2neo.Relationship(away_team_node, 'PLAYED', game_node, points=int(game.away_score), was_home=False))\n",
    "    tx.create(py2neo.Relationship(game_node, 'PART_OF', week_node))\n",
    "    tx.create(py2neo.Relationship(week_node, 'PART_OF', season_node))\n",
    "tx.commit()"
   ]
  },
  {
   "cell_type": "markdown",
   "metadata": {},
   "source": [
    "## Get counts of all node labels"
   ]
  },
  {
   "cell_type": "code",
   "execution_count": 88,
   "metadata": {
    "collapsed": true
   },
   "outputs": [],
   "source": [
    "query = \"\"\"\n",
    "match (n)\n",
    "unwind labels(n) as label\n",
    "return label, count(*) as count\n",
    "\"\"\""
   ]
  },
  {
   "cell_type": "code",
   "execution_count": 89,
   "metadata": {
    "collapsed": false
   },
   "outputs": [
    {
     "name": "stdout",
     "output_type": "stream",
     "text": [
      "[('label': 'Team', 'count': 32),\n",
      " ('label': 'Season', 'count': 1),\n",
      " ('label': 'Game', 'count': 256),\n",
      " ('label': 'Week', 'count': 17)]\n"
     ]
    }
   ],
   "source": [
    "result = graph.run(query)\n",
    "pprint(list(result))"
   ]
  },
  {
   "cell_type": "markdown",
   "metadata": {},
   "source": [
    "## Get summary of all games of games of games between two teams"
   ]
  },
  {
   "cell_type": "code",
   "execution_count": 90,
   "metadata": {
    "collapsed": true
   },
   "outputs": [],
   "source": [
    "query = \"\"\"\n",
    "match p = (:Team {name: $t1})-[:PLAYED*0..6]-(:Team {name: $t2})\n",
    "unwind filter(node in nodes(p) where node:Game) AS gameNode\n",
    "with distinct gameNode AS gameNode\n",
    "match ()-[r:PLAYED]-(gameNode)\n",
    "with id(gameNode) AS gid,\n",
    "     collect(r.points) AS pts\n",
    "with reduce(x=0, i in pts | x + i) AS tot\n",
    "return count(*) as n,\n",
    "       avg(tot) AS avg,\n",
    "       min(tot) AS min,\n",
    "       max(tot) AS max,\n",
    "       stdev(tot) AS stdev;\n",
    "\"\"\""
   ]
  },
  {
   "cell_type": "code",
   "execution_count": 91,
   "metadata": {
    "collapsed": false
   },
   "outputs": [
    {
     "name": "stdout",
     "output_type": "stream",
     "text": [
      "[('n': 82, 'avg': 43.82926829268291, 'min': 12, 'max': 77, 'stdev': 12.235149605858835)]\n"
     ]
    }
   ],
   "source": [
    "result = graph.run(query, t1='eagles', t2='giants')\n",
    "pprint(list(result))"
   ]
  },
  {
   "cell_type": "markdown",
   "metadata": {},
   "source": [
    "## Get average total score and abs diff grouped by week"
   ]
  },
  {
   "cell_type": "code",
   "execution_count": 96,
   "metadata": {
    "collapsed": true
   },
   "outputs": [],
   "source": [
    "query = \"\"\"\n",
    "match ()-[r:PLAYED]-(g:Game)\n",
    "with g.week as week,\n",
    "     id(g) as gid,\n",
    "     collect(r.points) as pts\n",
    "with week,\n",
    "     gid,\n",
    "     reduce(x=0, i in pts | x + i) as tot,\n",
    "     abs(pts[0] - pts[1]) as diff\n",
    "return week,\n",
    "       round(avg(tot)) as avg_tot,\n",
    "       round(avg(diff)) as avg_abs_diff\n",
    "order by week asc;  \n",
    "\"\"\""
   ]
  },
  {
   "cell_type": "code",
   "execution_count": 97,
   "metadata": {
    "collapsed": false
   },
   "outputs": [
    {
     "name": "stdout",
     "output_type": "stream",
     "text": [
      "[('week': 1, 'avg_tot': 45.0, 'avg_abs_diff': 8.0),\n",
      " ('week': 2, 'avg_tot': 45.0, 'avg_abs_diff': 10.0),\n",
      " ('week': 3, 'avg_tot': 47.0, 'avg_abs_diff': 12.0),\n",
      " ('week': 4, 'avg_tot': 45.0, 'avg_abs_diff': 10.0),\n",
      " ('week': 5, 'avg_tot': 45.0, 'avg_abs_diff': 10.0),\n",
      " ('week': 6, 'avg_tot': 48.0, 'avg_abs_diff': 10.0),\n",
      " ('week': 7, 'avg_tot': 42.0, 'avg_abs_diff': 9.0),\n",
      " ('week': 8, 'avg_tot': 50.0, 'avg_abs_diff': 8.0),\n",
      " ('week': 9, 'avg_tot': 50.0, 'avg_abs_diff': 9.0),\n",
      " ('week': 10, 'avg_tot': 46.0, 'avg_abs_diff': 8.0),\n",
      " ('week': 11, 'avg_tot': 42.0, 'avg_abs_diff': 8.0),\n",
      " ('week': 12, 'avg_tot': 46.0, 'avg_abs_diff': 10.0),\n",
      " ('week': 13, 'avg_tot': 44.0, 'avg_abs_diff': 15.0),\n",
      " ('week': 14, 'avg_tot': 40.0, 'avg_abs_diff': 9.0),\n",
      " ('week': 15, 'avg_tot': 44.0, 'avg_abs_diff': 11.0),\n",
      " ('week': 16, 'avg_tot': 52.0, 'avg_abs_diff': 12.0),\n",
      " ('week': 17, 'avg_tot': 46.0, 'avg_abs_diff': 13.0)]\n"
     ]
    }
   ],
   "source": [
    "result = graph.run(query)\n",
    "pprint(list(result))"
   ]
  },
  {
   "cell_type": "markdown",
   "metadata": {},
   "source": [
    "## Get average total score and diff grouped by week"
   ]
  },
  {
   "cell_type": "code",
   "execution_count": 98,
   "metadata": {
    "collapsed": true
   },
   "outputs": [],
   "source": [
    "query = \"\"\"\n",
    "match ()-[r1:PLAYED {was_home: true}]-(g:Game)-[r2:PLAYED]-()\n",
    "with g.week as week,\n",
    "     id(g) as gid,\n",
    "     [r1.points, r2.points] as pts\n",
    "with week,\n",
    "     gid,\n",
    "     reduce(x=0, i in pts | x + i) as tot,\n",
    "     pts[0] - pts[1] as diff\n",
    "return week,\n",
    "       round(avg(tot)) as avg_tot,\n",
    "       round(avg(diff)) as avg_diff\n",
    "order by week asc;\n",
    "\"\"\""
   ]
  },
  {
   "cell_type": "code",
   "execution_count": 99,
   "metadata": {
    "collapsed": false
   },
   "outputs": [
    {
     "name": "stdout",
     "output_type": "stream",
     "text": [
      "[('week': 1, 'avg_tot': 45.0, 'avg_diff': 1.0),\n",
      " ('week': 2, 'avg_tot': 45.0, 'avg_diff': 5.0),\n",
      " ('week': 3, 'avg_tot': 47.0, 'avg_diff': 6.0),\n",
      " ('week': 4, 'avg_tot': 45.0, 'avg_diff': 3.0),\n",
      " ('week': 5, 'avg_tot': 45.0, 'avg_diff': 0.0),\n",
      " ('week': 6, 'avg_tot': 48.0, 'avg_diff': 6.0),\n",
      " ('week': 7, 'avg_tot': 42.0, 'avg_diff': 1.0),\n",
      " ('week': 8, 'avg_tot': 50.0, 'avg_diff': 2.0),\n",
      " ('week': 9, 'avg_tot': 50.0, 'avg_diff': -2.0),\n",
      " ('week': 10, 'avg_tot': 46.0, 'avg_diff': 4.0),\n",
      " ('week': 11, 'avg_tot': 42.0, 'avg_diff': 3.0),\n",
      " ('week': 12, 'avg_tot': 46.0, 'avg_diff': 1.0),\n",
      " ('week': 13, 'avg_tot': 44.0, 'avg_diff': 6.0),\n",
      " ('week': 14, 'avg_tot': 40.0, 'avg_diff': 0.0),\n",
      " ('week': 15, 'avg_tot': 44.0, 'avg_diff': 0.0),\n",
      " ('week': 16, 'avg_tot': 52.0, 'avg_diff': 6.0),\n",
      " ('week': 17, 'avg_tot': 46.0, 'avg_diff': 2.0)]\n"
     ]
    }
   ],
   "source": [
    "result = graph.run(query)\n",
    "pprint(list(result))"
   ]
  },
  {
   "cell_type": "markdown",
   "metadata": {},
   "source": [
    "## Get the avg total score and diff grouped by team"
   ]
  },
  {
   "cell_type": "code",
   "execution_count": 120,
   "metadata": {
    "collapsed": true
   },
   "outputs": [],
   "source": [
    "query = \"\"\"\n",
    "match (t:Team)-[r:PLAYED]-(:Game)-[r2:PLAYED]-(:Team)\n",
    "with t.name as team,\n",
    "     round(avg(r.points + r2.points)) as avg_tot,\n",
    "     round(avg(r.points - r2.points)) as avg_diff,\n",
    "     count(*) as n\n",
    "return team, avg_tot, avg_diff, n\n",
    "order by team;\n",
    "\"\"\""
   ]
  },
  {
   "cell_type": "code",
   "execution_count": 121,
   "metadata": {
    "collapsed": false
   },
   "outputs": [
    {
     "name": "stdout",
     "output_type": "stream",
     "text": [
      "[('team': '49ers', 'avg_tot': 49.0, 'avg_diff': -11.0, 'n': 16),\n",
      " ('team': 'bears', 'avg_tot': 42.0, 'avg_diff': -7.0, 'n': 16),\n",
      " ('team': 'bengals', 'avg_tot': 40.0, 'avg_diff': 1.0, 'n': 16),\n",
      " ('team': 'bills', 'avg_tot': 49.0, 'avg_diff': 1.0, 'n': 16),\n",
      " ('team': 'broncos', 'avg_tot': 39.0, 'avg_diff': 2.0, 'n': 16),\n",
      " ('team': 'browns', 'avg_tot': 45.0, 'avg_diff': -12.0, 'n': 16),\n",
      " ('team': 'buccaneers', 'avg_tot': 45.0, 'avg_diff': -1.0, 'n': 16),\n",
      " ('team': 'cardinals', 'avg_tot': 49.0, 'avg_diff': 4.0, 'n': 16),\n",
      " ('team': 'chargers', 'avg_tot': 52.0, 'avg_diff': -1.0, 'n': 16),\n",
      " ('team': 'chiefs', 'avg_tot': 44.0, 'avg_diff': 5.0, 'n': 16),\n",
      " ('team': 'colts', 'avg_tot': 50.0, 'avg_diff': 1.0, 'n': 16),\n",
      " ('team': 'cowboys', 'avg_tot': 45.0, 'avg_diff': 7.0, 'n': 16),\n",
      " ('team': 'dolphins', 'avg_tot': 46.0, 'avg_diff': -1.0, 'n': 16),\n",
      " ('team': 'eagles', 'avg_tot': 44.0, 'avg_diff': 2.0, 'n': 16),\n",
      " ('team': 'falcons', 'avg_tot': 59.0, 'avg_diff': 8.0, 'n': 16),\n",
      " ('team': 'giants', 'avg_tot': 37.0, 'avg_diff': 2.0, 'n': 16),\n",
      " ('team': 'jaguars', 'avg_tot': 45.0, 'avg_diff': -5.0, 'n': 16),\n",
      " ('team': 'jets', 'avg_tot': 43.0, 'avg_diff': -8.0, 'n': 16),\n",
      " ('team': 'lions', 'avg_tot': 44.0, 'avg_diff': -1.0, 'n': 16),\n",
      " ('team': 'packers', 'avg_tot': 51.0, 'avg_diff': 3.0, 'n': 16),\n",
      " ('team': 'panthers', 'avg_tot': 48.0, 'avg_diff': -2.0, 'n': 16),\n",
      " ('team': 'patriots', 'avg_tot': 43.0, 'avg_diff': 12.0, 'n': 16),\n",
      " ('team': 'raiders', 'avg_tot': 50.0, 'avg_diff': 2.0, 'n': 16),\n",
      " ('team': 'rams', 'avg_tot': 39.0, 'avg_diff': -11.0, 'n': 16),\n",
      " ('team': 'ravens', 'avg_tot': 42.0, 'avg_diff': 1.0, 'n': 16),\n",
      " ('team': 'redskins', 'avg_tot': 49.0, 'avg_diff': 1.0, 'n': 16),\n",
      " ('team': 'saints', 'avg_tot': 58.0, 'avg_diff': 1.0, 'n': 16),\n",
      " ('team': 'seahawks', 'avg_tot': 40.0, 'avg_diff': 4.0, 'n': 16),\n",
      " ('team': 'steelers', 'avg_tot': 45.0, 'avg_diff': 4.0, 'n': 16),\n",
      " ('team': 'texans', 'avg_tot': 38.0, 'avg_diff': -3.0, 'n': 16),\n",
      " ('team': 'titans', 'avg_tot': 47.0, 'avg_diff': 0.0, 'n': 16),\n",
      " ('team': 'vikings', 'avg_tot': 40.0, 'avg_diff': 1.0, 'n': 16)]\n"
     ]
    }
   ],
   "source": [
    "result = graph.run(query)\n",
    "pprint(list(result))"
   ]
  },
  {
   "cell_type": "markdown",
   "metadata": {},
   "source": [
    "## Get the avg/stdev of total score and avg/stdev of abs score diff for all games"
   ]
  },
  {
   "cell_type": "code",
   "execution_count": 108,
   "metadata": {
    "collapsed": true
   },
   "outputs": [],
   "source": [
    "query = \"\"\"\n",
    "match ()-[r:PLAYED]-(g:Game)\n",
    "with id(g) as gid,\n",
    "     collect(r.points) as pts\n",
    "with gid,\n",
    "     reduce(x=0, i in pts | x + i) as tot,\n",
    "     abs(pts[0] - pts[1]) as diff\n",
    "return count(gid) as n,\n",
    "       avg(tot) as avg_tot,\n",
    "       stdev(tot) as stdev_tot,\n",
    "       avg(diff) as avg_diff,\n",
    "       stdev(diff) as stdev_diff,\n",
    "       max(diff) as max,\n",
    "       min(diff) as min;\n",
    "\"\"\""
   ]
  },
  {
   "cell_type": "code",
   "execution_count": 109,
   "metadata": {
    "collapsed": false
   },
   "outputs": [
    {
     "name": "stdout",
     "output_type": "stream",
     "text": [
      "[('n': 256, 'avg_tot': 45.550781249999964, 'stdev_tot': 13.354200315029034, 'avg_diff': 10.230468750000005, 'stdev_diff': 8.190238652882861, 'max': 38, 'min': 0)]\n"
     ]
    }
   ],
   "source": [
    "result = graph.run(query)\n",
    "pprint(list(result))"
   ]
  },
  {
   "cell_type": "markdown",
   "metadata": {},
   "source": [
    "## Find all ties"
   ]
  },
  {
   "cell_type": "code",
   "execution_count": 157,
   "metadata": {
    "collapsed": true
   },
   "outputs": [],
   "source": [
    "query = \"\"\"\n",
    "match p=()-[r1:PLAYED {was_home: true}]->()<-[r2:PLAYED]-()\n",
    "where r1.points - r2.points = 0\n",
    "return p;\n",
    "\"\"\""
   ]
  },
  {
   "cell_type": "code",
   "execution_count": 158,
   "metadata": {
    "collapsed": false
   },
   "outputs": [
    {
     "name": "stdout",
     "output_type": "stream",
     "text": [
      "[('p': (bengals)-[:PLAYED {points:27,was_home:true}]->(b9a1dea)<-[:PLAYED {points:27,was_home:false}]-(redskins)),\n",
      " ('p': (cardinals)-[:PLAYED {points:6,was_home:true}]->(aec3dcb)<-[:PLAYED {points:6,was_home:false}]-(seahawks))]\n"
     ]
    }
   ],
   "source": [
    "result = graph.run(query)\n",
    "pprint(list(result))"
   ]
  },
  {
   "cell_type": "markdown",
   "metadata": {},
   "source": [
    "## Get all (1 to 4)-hop paths between two teams"
   ]
  },
  {
   "cell_type": "code",
   "execution_count": 162,
   "metadata": {
    "collapsed": true
   },
   "outputs": [],
   "source": [
    "query = \"\"\"\n",
    "match path = (:Team {name: $t1})-[:PLAYED*1..4]-(:Team {name: $t2})\n",
    "return path;\n",
    "\"\"\""
   ]
  },
  {
   "cell_type": "code",
   "execution_count": 170,
   "metadata": {
    "collapsed": false,
    "deletable": true,
    "editable": true
   },
   "outputs": [
    {
     "name": "stdout",
     "output_type": "stream",
     "text": [
      "(eagles:Team {name:\"eagles\"}) <class 'py2neo.types.Node'>\n",
      "(eagles)-[:PLAYED {points:13,was_home:true}]->(eace51d) <class 'py2neo.types.Relationship'>\n",
      "(eace51d:Game {week:12}) <class 'py2neo.types.Node'>\n",
      "(packers)-[:PLAYED {points:27,was_home:false}]->(eace51d) <class 'py2neo.types.Relationship'>\n",
      "(packers:Team {name:\"packers\"}) <class 'py2neo.types.Node'>\n",
      "(packers)-[:PLAYED {points:23,was_home:true}]->(c665a04) <class 'py2neo.types.Relationship'>\n",
      "(c665a04:Game {week:5}) <class 'py2neo.types.Node'>\n",
      "(giants)-[:PLAYED {points:16,was_home:false}]->(c665a04) <class 'py2neo.types.Relationship'>\n",
      "(giants:Team {name:\"giants\"}) <class 'py2neo.types.Node'>\n",
      "-----------------------\n",
      "(eagles:Team {name:\"eagles\"}) <class 'py2neo.types.Node'>\n",
      "(eagles)-[:PLAYED {points:26,was_home:false}]->(d87a6e5) <class 'py2neo.types.Relationship'>\n",
      "(d87a6e5:Game {week:15}) <class 'py2neo.types.Node'>\n",
      "(ravens)-[:PLAYED {points:27,was_home:true}]->(d87a6e5) <class 'py2neo.types.Relationship'>\n",
      "(ravens:Team {name:\"ravens\"}) <class 'py2neo.types.Node'>\n",
      "(ravens)-[:PLAYED {points:23,was_home:false}]->(de9e73d) <class 'py2neo.types.Relationship'>\n",
      "(de9e73d:Game {week:6}) <class 'py2neo.types.Node'>\n",
      "(giants)-[:PLAYED {points:27,was_home:true}]->(de9e73d) <class 'py2neo.types.Relationship'>\n",
      "(giants:Team {name:\"giants\"}) <class 'py2neo.types.Node'>\n",
      "-----------------------\n",
      "(eagles:Team {name:\"eagles\"}) <class 'py2neo.types.Node'>\n",
      "(eagles)-[:PLAYED {points:14,was_home:false}]->(dc40087) <class 'py2neo.types.Relationship'>\n",
      "(dc40087:Game {week:13}) <class 'py2neo.types.Node'>\n",
      "(bengals)-[:PLAYED {points:32,was_home:true}]->(dc40087) <class 'py2neo.types.Relationship'>\n",
      "(bengals:Team {name:\"bengals\"}) <class 'py2neo.types.Node'>\n",
      "(bengals)-[:PLAYED {points:20,was_home:false}]->(f2f6b01) <class 'py2neo.types.Relationship'>\n",
      "(f2f6b01:Game {week:10}) <class 'py2neo.types.Node'>\n",
      "(giants)-[:PLAYED {points:21,was_home:true}]->(f2f6b01) <class 'py2neo.types.Relationship'>\n",
      "(giants:Team {name:\"giants\"}) <class 'py2neo.types.Node'>\n",
      "-----------------------\n",
      "(eagles:Team {name:\"eagles\"}) <class 'py2neo.types.Node'>\n",
      "(eagles)-[:PLAYED {points:29,was_home:false}]->(d96e53b) <class 'py2neo.types.Relationship'>\n",
      "(d96e53b:Game {week:2}) <class 'py2neo.types.Node'>\n",
      "(bears)-[:PLAYED {points:14,was_home:true}]->(d96e53b) <class 'py2neo.types.Relationship'>\n",
      "(bears:Team {name:\"bears\"}) <class 'py2neo.types.Node'>\n",
      "(bears)-[:PLAYED {points:16,was_home:false}]->(aa44ec3) <class 'py2neo.types.Relationship'>\n",
      "(aa44ec3:Game {week:11}) <class 'py2neo.types.Node'>\n",
      "(giants)-[:PLAYED {points:22,was_home:true}]->(aa44ec3) <class 'py2neo.types.Relationship'>\n",
      "(giants:Team {name:\"giants\"}) <class 'py2neo.types.Node'>\n",
      "-----------------------\n",
      "(eagles:Team {name:\"eagles\"}) <class 'py2neo.types.Node'>\n",
      "(eagles)-[:PLAYED {points:23,was_home:false}]->(bb80286) <class 'py2neo.types.Relationship'>\n",
      "(bb80286:Game {week:9}) <class 'py2neo.types.Node'>\n",
      "(giants)-[:PLAYED {points:28,was_home:true}]->(bb80286) <class 'py2neo.types.Relationship'>\n",
      "(giants:Team {name:\"giants\"}) <class 'py2neo.types.Node'>\n",
      "-----------------------\n",
      "(eagles:Team {name:\"eagles\"}) <class 'py2neo.types.Node'>\n",
      "(eagles)-[:PLAYED {points:34,was_home:true}]->(ec55f4a) <class 'py2neo.types.Relationship'>\n",
      "(ec55f4a:Game {week:3}) <class 'py2neo.types.Node'>\n",
      "(steelers)-[:PLAYED {points:3,was_home:false}]->(ec55f4a) <class 'py2neo.types.Relationship'>\n",
      "(steelers:Team {name:\"steelers\"}) <class 'py2neo.types.Node'>\n",
      "(steelers)-[:PLAYED {points:24,was_home:true}]->(ce3ff20) <class 'py2neo.types.Relationship'>\n",
      "(ce3ff20:Game {week:13}) <class 'py2neo.types.Node'>\n",
      "(giants)-[:PLAYED {points:14,was_home:false}]->(ce3ff20) <class 'py2neo.types.Relationship'>\n",
      "(giants:Team {name:\"giants\"}) <class 'py2neo.types.Node'>\n",
      "-----------------------\n",
      "(eagles:Team {name:\"eagles\"}) <class 'py2neo.types.Node'>\n",
      "(eagles)-[:PLAYED {points:29,was_home:true}]->(ace8ff7) <class 'py2neo.types.Relationship'>\n",
      "(ace8ff7:Game {week:1}) <class 'py2neo.types.Node'>\n",
      "(browns)-[:PLAYED {points:10,was_home:false}]->(ace8ff7) <class 'py2neo.types.Relationship'>\n",
      "(browns:Team {name:\"browns\"}) <class 'py2neo.types.Node'>\n",
      "(browns)-[:PLAYED {points:13,was_home:true}]->(b3ec96f) <class 'py2neo.types.Relationship'>\n",
      "(b3ec96f:Game {week:12}) <class 'py2neo.types.Node'>\n",
      "(giants)-[:PLAYED {points:27,was_home:false}]->(b3ec96f) <class 'py2neo.types.Relationship'>\n",
      "(giants:Team {name:\"giants\"}) <class 'py2neo.types.Node'>\n",
      "-----------------------\n",
      "(eagles:Team {name:\"eagles\"}) <class 'py2neo.types.Node'>\n",
      "(eagles)-[:PLAYED {points:24,was_home:true}]->(f1982f1) <class 'py2neo.types.Relationship'>\n",
      "(f1982f1:Game {week:16}) <class 'py2neo.types.Node'>\n",
      "(giants)-[:PLAYED {points:19,was_home:false}]->(f1982f1) <class 'py2neo.types.Relationship'>\n",
      "(giants:Team {name:\"giants\"}) <class 'py2neo.types.Node'>\n",
      "-----------------------\n",
      "(eagles:Team {name:\"eagles\"}) <class 'py2neo.types.Node'>\n",
      "(eagles)-[:PLAYED {points:23,was_home:false}]->(bff98c4) <class 'py2neo.types.Relationship'>\n",
      "(bff98c4:Game {week:8}) <class 'py2neo.types.Node'>\n",
      "(cowboys)-[:PLAYED {points:29,was_home:true}]->(bff98c4) <class 'py2neo.types.Relationship'>\n",
      "(cowboys:Team {name:\"cowboys\"}) <class 'py2neo.types.Node'>\n",
      "(cowboys)-[:PLAYED {points:7,was_home:false}]->(db3d1b7) <class 'py2neo.types.Relationship'>\n",
      "(db3d1b7:Game {week:14}) <class 'py2neo.types.Node'>\n",
      "(giants)-[:PLAYED {points:10,was_home:true}]->(db3d1b7) <class 'py2neo.types.Relationship'>\n",
      "(giants:Team {name:\"giants\"}) <class 'py2neo.types.Node'>\n",
      "-----------------------\n",
      "(eagles:Team {name:\"eagles\"}) <class 'py2neo.types.Node'>\n",
      "(eagles)-[:PLAYED {points:27,was_home:true}]->(b85c576) <class 'py2neo.types.Relationship'>\n",
      "(b85c576:Game {week:17}) <class 'py2neo.types.Node'>\n",
      "(cowboys)-[:PLAYED {points:13,was_home:false}]->(b85c576) <class 'py2neo.types.Relationship'>\n",
      "(cowboys:Team {name:\"cowboys\"}) <class 'py2neo.types.Node'>\n",
      "(cowboys)-[:PLAYED {points:7,was_home:false}]->(db3d1b7) <class 'py2neo.types.Relationship'>\n",
      "(db3d1b7:Game {week:14}) <class 'py2neo.types.Node'>\n",
      "(giants)-[:PLAYED {points:10,was_home:true}]->(db3d1b7) <class 'py2neo.types.Relationship'>\n",
      "(giants:Team {name:\"giants\"}) <class 'py2neo.types.Node'>\n",
      "-----------------------\n",
      "(eagles:Team {name:\"eagles\"}) <class 'py2neo.types.Node'>\n",
      "(eagles)-[:PLAYED {points:23,was_home:false}]->(a32e225) <class 'py2neo.types.Relationship'>\n",
      "(a32e225:Game {week:5}) <class 'py2neo.types.Node'>\n",
      "(lions)-[:PLAYED {points:24,was_home:true}]->(a32e225) <class 'py2neo.types.Relationship'>\n",
      "(lions:Team {name:\"lions\"}) <class 'py2neo.types.Node'>\n",
      "(lions)-[:PLAYED {points:6,was_home:false}]->(a61e7dc) <class 'py2neo.types.Relationship'>\n",
      "(a61e7dc:Game {week:15}) <class 'py2neo.types.Node'>\n",
      "(giants)-[:PLAYED {points:17,was_home:true}]->(a61e7dc) <class 'py2neo.types.Relationship'>\n",
      "(giants:Team {name:\"giants\"}) <class 'py2neo.types.Node'>\n",
      "-----------------------\n",
      "(eagles:Team {name:\"eagles\"}) <class 'py2neo.types.Node'>\n",
      "(eagles)-[:PLAYED {points:20,was_home:false}]->(e4357be) <class 'py2neo.types.Relationship'>\n",
      "(e4357be:Game {week:6}) <class 'py2neo.types.Node'>\n",
      "(redskins)-[:PLAYED {points:27,was_home:true}]->(e4357be) <class 'py2neo.types.Relationship'>\n",
      "(redskins:Team {name:\"redskins\"}) <class 'py2neo.types.Node'>\n",
      "(redskins)-[:PLAYED {points:10,was_home:true}]->(a2f040f) <class 'py2neo.types.Relationship'>\n",
      "(a2f040f:Game {week:17}) <class 'py2neo.types.Node'>\n",
      "(giants)-[:PLAYED {points:19,was_home:false}]->(a2f040f) <class 'py2neo.types.Relationship'>\n",
      "(giants:Team {name:\"giants\"}) <class 'py2neo.types.Node'>\n",
      "-----------------------\n",
      "(eagles:Team {name:\"eagles\"}) <class 'py2neo.types.Node'>\n",
      "(eagles)-[:PLAYED {points:22,was_home:true}]->(ce675f7) <class 'py2neo.types.Relationship'>\n",
      "(ce675f7:Game {week:14}) <class 'py2neo.types.Node'>\n",
      "(redskins)-[:PLAYED {points:27,was_home:false}]->(ce675f7) <class 'py2neo.types.Relationship'>\n",
      "(redskins:Team {name:\"redskins\"}) <class 'py2neo.types.Node'>\n",
      "(redskins)-[:PLAYED {points:10,was_home:true}]->(a2f040f) <class 'py2neo.types.Relationship'>\n",
      "(a2f040f:Game {week:17}) <class 'py2neo.types.Node'>\n",
      "(giants)-[:PLAYED {points:19,was_home:false}]->(a2f040f) <class 'py2neo.types.Relationship'>\n",
      "(giants:Team {name:\"giants\"}) <class 'py2neo.types.Node'>\n",
      "-----------------------\n",
      "(eagles:Team {name:\"eagles\"}) <class 'py2neo.types.Node'>\n",
      "(eagles)-[:PLAYED {points:23,was_home:false}]->(bff98c4) <class 'py2neo.types.Relationship'>\n",
      "(bff98c4:Game {week:8}) <class 'py2neo.types.Node'>\n",
      "(cowboys)-[:PLAYED {points:29,was_home:true}]->(bff98c4) <class 'py2neo.types.Relationship'>\n",
      "(cowboys:Team {name:\"cowboys\"}) <class 'py2neo.types.Node'>\n",
      "(cowboys)-[:PLAYED {points:19,was_home:true}]->(c78a2ad) <class 'py2neo.types.Relationship'>\n",
      "(c78a2ad:Game {week:1}) <class 'py2neo.types.Node'>\n",
      "(giants)-[:PLAYED {points:20,was_home:false}]->(c78a2ad) <class 'py2neo.types.Relationship'>\n",
      "(giants:Team {name:\"giants\"}) <class 'py2neo.types.Node'>\n",
      "-----------------------\n",
      "(eagles:Team {name:\"eagles\"}) <class 'py2neo.types.Node'>\n",
      "(eagles)-[:PLAYED {points:27,was_home:true}]->(b85c576) <class 'py2neo.types.Relationship'>\n",
      "(b85c576:Game {week:17}) <class 'py2neo.types.Node'>\n",
      "(cowboys)-[:PLAYED {points:13,was_home:false}]->(b85c576) <class 'py2neo.types.Relationship'>\n",
      "(cowboys:Team {name:\"cowboys\"}) <class 'py2neo.types.Node'>\n",
      "(cowboys)-[:PLAYED {points:19,was_home:true}]->(c78a2ad) <class 'py2neo.types.Relationship'>\n",
      "(c78a2ad:Game {week:1}) <class 'py2neo.types.Node'>\n",
      "(giants)-[:PLAYED {points:20,was_home:false}]->(c78a2ad) <class 'py2neo.types.Relationship'>\n",
      "(giants:Team {name:\"giants\"}) <class 'py2neo.types.Node'>\n",
      "-----------------------\n",
      "(eagles:Team {name:\"eagles\"}) <class 'py2neo.types.Node'>\n",
      "(eagles)-[:PLAYED {points:20,was_home:false}]->(e4357be) <class 'py2neo.types.Relationship'>\n",
      "(e4357be:Game {week:6}) <class 'py2neo.types.Node'>\n",
      "(redskins)-[:PLAYED {points:27,was_home:true}]->(e4357be) <class 'py2neo.types.Relationship'>\n",
      "(redskins:Team {name:\"redskins\"}) <class 'py2neo.types.Node'>\n",
      "(redskins)-[:PLAYED {points:29,was_home:false}]->(f3eda32) <class 'py2neo.types.Relationship'>\n",
      "(f3eda32:Game {week:3}) <class 'py2neo.types.Node'>\n",
      "(giants)-[:PLAYED {points:27,was_home:true}]->(f3eda32) <class 'py2neo.types.Relationship'>\n",
      "(giants:Team {name:\"giants\"}) <class 'py2neo.types.Node'>\n",
      "-----------------------\n",
      "(eagles:Team {name:\"eagles\"}) <class 'py2neo.types.Node'>\n",
      "(eagles)-[:PLAYED {points:22,was_home:true}]->(ce675f7) <class 'py2neo.types.Relationship'>\n",
      "(ce675f7:Game {week:14}) <class 'py2neo.types.Node'>\n",
      "(redskins)-[:PLAYED {points:27,was_home:false}]->(ce675f7) <class 'py2neo.types.Relationship'>\n",
      "(redskins:Team {name:\"redskins\"}) <class 'py2neo.types.Node'>\n",
      "(redskins)-[:PLAYED {points:29,was_home:false}]->(f3eda32) <class 'py2neo.types.Relationship'>\n",
      "(f3eda32:Game {week:3}) <class 'py2neo.types.Node'>\n",
      "(giants)-[:PLAYED {points:27,was_home:true}]->(f3eda32) <class 'py2neo.types.Relationship'>\n",
      "(giants:Team {name:\"giants\"}) <class 'py2neo.types.Node'>\n",
      "-----------------------\n",
      "(eagles:Team {name:\"eagles\"}) <class 'py2neo.types.Node'>\n",
      "(eagles)-[:PLAYED {points:21,was_home:true}]->(a8912e0) <class 'py2neo.types.Relationship'>\n",
      "(a8912e0:Game {week:7}) <class 'py2neo.types.Node'>\n",
      "(vikings)-[:PLAYED {points:10,was_home:false}]->(a8912e0) <class 'py2neo.types.Relationship'>\n",
      "(vikings:Team {name:\"vikings\"}) <class 'py2neo.types.Node'>\n",
      "(vikings)-[:PLAYED {points:24,was_home:true}]->(e6df03e) <class 'py2neo.types.Relationship'>\n",
      "(e6df03e:Game {week:4}) <class 'py2neo.types.Node'>\n",
      "(giants)-[:PLAYED {points:10,was_home:false}]->(e6df03e) <class 'py2neo.types.Relationship'>\n",
      "(giants:Team {name:\"giants\"}) <class 'py2neo.types.Node'>\n",
      "-----------------------\n"
     ]
    }
   ],
   "source": [
    "result = graph.run(query, t1='eagles', t2='giants')\n",
    "for item in result:\n",
    "    for segment in py2neo.walk(item.get('path')):\n",
    "        print(segment, type(segment))\n",
    "    print('-----------------------')"
   ]
  }
 ],
 "metadata": {
  "kernelspec": {
   "display_name": "Python 3",
   "language": "python",
   "name": "python3"
  },
  "language_info": {
   "codemirror_mode": {
    "name": "ipython",
    "version": 3
   },
   "file_extension": ".py",
   "mimetype": "text/x-python",
   "name": "python",
   "nbconvert_exporter": "python",
   "pygments_lexer": "ipython3",
   "version": "3.6.1"
  }
 },
 "nbformat": 4,
 "nbformat_minor": 2
}
