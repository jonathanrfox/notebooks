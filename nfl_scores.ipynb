{
 "cells": [
  {
   "cell_type": "code",
   "execution_count": 1,
   "metadata": {
    "collapsed": true,
    "deletable": true,
    "editable": true
   },
   "outputs": [],
   "source": [
    "import functools\n",
    "from functools import lru_cache\n",
    "import json\n",
    "import xml.etree.ElementTree as ET\n",
    "\n",
    "import pandas as pd\n",
    "import py2neo\n",
    "import requests"
   ]
  },
  {
   "cell_type": "code",
   "execution_count": 23,
   "metadata": {
    "collapsed": false
   },
   "outputs": [],
   "source": [
    "pd.set_option('notebook_repr_html', False)"
   ]
  },
  {
   "cell_type": "code",
   "execution_count": 2,
   "metadata": {
    "collapsed": false,
    "deletable": true,
    "editable": true
   },
   "outputs": [],
   "source": [
    "def parse_xml(xml_str):\n",
    "    parsed = ET.fromstring(xml_str)\n",
    "    gms = parsed.find('gms')\n",
    "    week = gms.get('w')\n",
    "    year = gms.get('y')\n",
    "    for gm in gms:\n",
    "        yield {\n",
    "            'home_team': gm.get('hnn'),\n",
    "            'home_score': gm.get('hs'),\n",
    "            'away_team': gm.get('vnn'),\n",
    "            'away_score': gm.get('vs'),\n",
    "            'week': week,\n",
    "            'year': year\n",
    "        }"
   ]
  },
  {
   "cell_type": "code",
   "execution_count": 3,
   "metadata": {
    "collapsed": true,
    "deletable": true,
    "editable": true
   },
   "outputs": [],
   "source": [
    "url = 'http://nfl.com/ajax/scorestrip/'\n",
    "\n",
    "def get_scores(season, seasonType, week):\n",
    "    params = dict(\n",
    "        season=str(season), \n",
    "        seasonType=seasonType, \n",
    "        week=str(week))\n",
    "    data = requests.get(url, params=params)\n",
    "    return data.text"
   ]
  },
  {
   "cell_type": "markdown",
   "metadata": {
    "deletable": true,
    "editable": true
   },
   "source": [
    "# 2016 Season"
   ]
  },
  {
   "cell_type": "code",
   "execution_count": 10,
   "metadata": {
    "collapsed": true
   },
   "outputs": [],
   "source": [
    "season = [get_scores('2016', 'REG', str(week)) for week in range(1, 18)]"
   ]
  },
  {
   "cell_type": "code",
   "execution_count": 11,
   "metadata": {
    "collapsed": false
   },
   "outputs": [
    {
     "data": {
      "text/plain": [
       "'<?xml version=\"1.0\" encoding=\"UTF-8\"?>\\n<ss><gms gd=\"0\" w=\"1\" y=\"2016\" t=\"R\"><g eid=\"2016090800\" gsis=\"56901\" d=\"Thu\" t=\"8:30\" q=\"F\" k=\"\" h=\"DEN\" hnn=\"broncos\" hs=\"21\" v=\"CAR\" vnn=\"panthers\" vs=\"20\" p=\"\" rz=\"\" ga=\"\" gt=\"REG\"/><g eid=\"2016091100\" gsis=\"56902\" d=\"Sun\" t=\"1:00\" q=\"F\" k=\"\" h=\"ATL\" hnn=\"falcons\" hs=\"24\" v=\"TB\" vnn=\"buccaneers\" vs=\"31\" p=\"\" rz=\"\" ga=\"\" gt=\"REG\"/><g eid=\"2016091101\" gsis=\"56903\" d=\"Sun\" t=\"1:00\" q=\"F\" k=\"\" h=\"BAL\" hnn=\"ravens\" hs=\"13\" v=\"BUF\" vnn=\"bills\" vs=\"7\" p=\"\" rz=\"\" ga=\"\" gt=\"REG\"/><g eid=\"2016091102\" gsis=\"56904\" d=\"Sun\" t=\"1:00\" q=\"F\" k=\"\" h=\"HOU\" hnn=\"texans\" hs=\"23\" v=\"CHI\" vnn=\"bears\" vs=\"14\" p=\"\" rz=\"\" ga=\"\" gt=\"REG\"/><g eid=\"2016091103\" gsis=\"56905\" d=\"Sun\" t=\"1:00\" q=\"F\" k=\"\" h=\"JAX\" hnn=\"jaguars\" hs=\"23\" v=\"GB\" vnn=\"packers\" vs=\"27\" p=\"\" rz=\"\" ga=\"\" gt=\"REG\"/><g eid=\"2016091104\" gsis=\"56906\" d=\"Sun\" t=\"1:00\" q=\"FO\" k=\"\" h=\"KC\" hnn=\"chiefs\" hs=\"33\" v=\"SD\" vnn=\"chargers\" vs=\"27\" p=\"\" rz=\"\" ga=\"\" gt=\"REG\"/><g eid=\"2016091105\" gsis=\"56907\" d=\"Sun\" t=\"1:00\" q=\"F\" k=\"\" h=\"NO\" hnn=\"saints\" hs=\"34\" v=\"OAK\" vnn=\"raiders\" vs=\"35\" p=\"\" rz=\"\" ga=\"\" gt=\"REG\"/><g eid=\"2016091106\" gsis=\"56908\" d=\"Sun\" t=\"1:00\" q=\"F\" k=\"\" h=\"NYJ\" hnn=\"jets\" hs=\"22\" v=\"CIN\" vnn=\"bengals\" vs=\"23\" p=\"\" rz=\"\" ga=\"\" gt=\"REG\"/><g eid=\"2016091107\" gsis=\"56909\" d=\"Sun\" t=\"1:00\" q=\"F\" k=\"\" h=\"PHI\" hnn=\"eagles\" hs=\"29\" v=\"CLE\" vnn=\"browns\" vs=\"10\" p=\"\" rz=\"\" ga=\"\" gt=\"REG\"/><g eid=\"2016091108\" gsis=\"56910\" d=\"Sun\" t=\"1:00\" q=\"F\" k=\"\" h=\"TEN\" hnn=\"titans\" hs=\"16\" v=\"MIN\" vnn=\"vikings\" vs=\"25\" p=\"\" rz=\"\" ga=\"\" gt=\"REG\"/><g eid=\"2016091109\" gsis=\"56911\" d=\"Sun\" t=\"4:05\" q=\"F\" k=\"\" h=\"SEA\" hnn=\"seahawks\" hs=\"12\" v=\"MIA\" vnn=\"dolphins\" vs=\"10\" p=\"\" rz=\"\" ga=\"\" gt=\"REG\"/><g eid=\"2016091110\" gsis=\"56912\" d=\"Sun\" t=\"4:25\" q=\"F\" k=\"\" h=\"DAL\" hnn=\"cowboys\" hs=\"19\" v=\"NYG\" vnn=\"giants\" vs=\"20\" p=\"\" rz=\"\" ga=\"\" gt=\"REG\"/><g eid=\"2016091111\" gsis=\"56913\" d=\"Sun\" t=\"4:25\" q=\"F\" k=\"\" h=\"IND\" hnn=\"colts\" hs=\"35\" v=\"DET\" vnn=\"lions\" vs=\"39\" p=\"\" rz=\"\" ga=\"\" gt=\"REG\"/><g eid=\"2016091112\" gsis=\"56914\" d=\"Sun\" t=\"8:30\" q=\"F\" k=\"\" h=\"ARI\" hnn=\"cardinals\" hs=\"21\" v=\"NE\" vnn=\"patriots\" vs=\"23\" p=\"\" rz=\"\" ga=\"\" gt=\"REG\"/><g eid=\"2016091200\" gsis=\"56915\" d=\"Mon\" t=\"7:10\" q=\"F\" k=\"\" h=\"WAS\" hnn=\"redskins\" hs=\"16\" v=\"PIT\" vnn=\"steelers\" vs=\"38\" p=\"\" rz=\"\" ga=\"\" gt=\"REG\"/><g eid=\"2016091201\" gsis=\"56916\" d=\"Mon\" t=\"10:20\" q=\"F\" k=\"\" h=\"SF\" hnn=\"49ers\" hs=\"28\" v=\"LA\" vnn=\"rams\" vs=\"0\" p=\"\" rz=\"\" ga=\"\" gt=\"REG\"/></gms></ss>'"
      ]
     },
     "execution_count": 11,
     "metadata": {},
     "output_type": "execute_result"
    }
   ],
   "source": [
    "season[0]"
   ]
  },
  {
   "cell_type": "code",
   "execution_count": 12,
   "metadata": {
    "collapsed": true
   },
   "outputs": [],
   "source": [
    "parsed = [game for week in season for game in parse_xml(week)]"
   ]
  },
  {
   "cell_type": "code",
   "execution_count": 13,
   "metadata": {
    "collapsed": true
   },
   "outputs": [],
   "source": [
    "with open('./data/nfl_scores_2016.json', 'w') as f:\n",
    "    json.dump(parsed, f)"
   ]
  },
  {
   "cell_type": "code",
   "execution_count": 14,
   "metadata": {
    "collapsed": true,
    "deletable": true,
    "editable": true
   },
   "outputs": [],
   "source": [
    "with open('./data/nfl_scores_2016.json') as f:\n",
    "    df = pd.DataFrame(json.load(f))"
   ]
  },
  {
   "cell_type": "code",
   "execution_count": 24,
   "metadata": {
    "collapsed": false,
    "deletable": true,
    "editable": true
   },
   "outputs": [
    {
     "data": {
      "text/plain": [
       "   away_score   away_team  home_score home_team  week  year\n",
       "0          20    panthers          21   broncos     1  2016\n",
       "1          31  buccaneers          24   falcons     1  2016\n",
       "2           7       bills          13    ravens     1  2016\n",
       "3          14       bears          23    texans     1  2016\n",
       "4          27     packers          23   jaguars     1  2016"
      ]
     },
     "execution_count": 24,
     "metadata": {},
     "output_type": "execute_result"
    }
   ],
   "source": [
    "df.head()"
   ]
  },
  {
   "cell_type": "code",
   "execution_count": 17,
   "metadata": {
    "collapsed": false,
    "deletable": true,
    "editable": true
   },
   "outputs": [],
   "source": [
    "df['home_score'] = pd.to_numeric(df['home_score'])\n",
    "df['away_score'] = pd.to_numeric(df['away_score'])\n",
    "df['week'] = pd.to_numeric(df['week'])"
   ]
  },
  {
   "cell_type": "code",
   "execution_count": 35,
   "metadata": {
    "collapsed": false,
    "deletable": true,
    "editable": true
   },
   "outputs": [],
   "source": [
    "eagles = df[(df.away_team == 'eagles') | (df.home_team == 'eagles')].copy()"
   ]
  },
  {
   "cell_type": "code",
   "execution_count": 36,
   "metadata": {
    "collapsed": false
   },
   "outputs": [
    {
     "data": {
      "text/plain": [
       "     away_score away_team  home_score home_team  week  year\n",
       "8            10    browns          29    eagles     1  2016\n",
       "31           29    eagles          14     bears     2  2016\n",
       "43            3  steelers          34    eagles     3  2016\n",
       "65           23    eagles          24     lions     5  2016\n",
       "86           20    eagles          27  redskins     6  2016\n",
       "100          10   vikings          21    eagles     7  2016\n",
       "118          23    eagles          29   cowboys     8  2016\n",
       "126          23    eagles          28    giants     9  2016\n",
       "137          15   falcons          24    eagles    10  2016\n",
       "158          15    eagles          26  seahawks    11  2016\n",
       "176          27   packers          13    eagles    12  2016\n",
       "181          14    eagles          32   bengals    13  2016\n",
       "200          27  redskins          22    eagles    14  2016\n",
       "213          26    eagles          27    ravens    15  2016\n",
       "224          19    giants          24    eagles    16  2016\n",
       "244          13   cowboys          27    eagles    17  2016"
      ]
     },
     "execution_count": 36,
     "metadata": {},
     "output_type": "execute_result"
    }
   ],
   "source": [
    "eagles"
   ]
  },
  {
   "cell_type": "code",
   "execution_count": 19,
   "metadata": {
    "collapsed": true,
    "deletable": true,
    "editable": true
   },
   "outputs": [],
   "source": [
    "def f(team, row):\n",
    "    if row.home_team == team:\n",
    "        return row.home_score - row.away_score\n",
    "    elif row.away_team == team:\n",
    "        return row.away_score - row.home_score\n",
    "    else:\n",
    "        return None"
   ]
  },
  {
   "cell_type": "code",
   "execution_count": 37,
   "metadata": {
    "collapsed": false,
    "deletable": true,
    "editable": true
   },
   "outputs": [],
   "source": [
    "f_p = functools.partial(f, 'eagles')\n",
    "eagles['score_diff'] = eagles.apply(f_p, axis=1)"
   ]
  },
  {
   "cell_type": "code",
   "execution_count": 38,
   "metadata": {
    "collapsed": false
   },
   "outputs": [
    {
     "data": {
      "text/plain": [
       "     away_score away_team  home_score home_team  week  year  score_diff\n",
       "8            10    browns          29    eagles     1  2016          19\n",
       "31           29    eagles          14     bears     2  2016          15\n",
       "43            3  steelers          34    eagles     3  2016          31\n",
       "65           23    eagles          24     lions     5  2016          -1\n",
       "86           20    eagles          27  redskins     6  2016          -7\n",
       "100          10   vikings          21    eagles     7  2016          11\n",
       "118          23    eagles          29   cowboys     8  2016          -6\n",
       "126          23    eagles          28    giants     9  2016          -5\n",
       "137          15   falcons          24    eagles    10  2016           9\n",
       "158          15    eagles          26  seahawks    11  2016         -11\n",
       "176          27   packers          13    eagles    12  2016         -14\n",
       "181          14    eagles          32   bengals    13  2016         -18\n",
       "200          27  redskins          22    eagles    14  2016          -5\n",
       "213          26    eagles          27    ravens    15  2016          -1\n",
       "224          19    giants          24    eagles    16  2016           5\n",
       "244          13   cowboys          27    eagles    17  2016          14"
      ]
     },
     "execution_count": 38,
     "metadata": {},
     "output_type": "execute_result"
    }
   ],
   "source": [
    "eagles"
   ]
  },
  {
   "cell_type": "code",
   "execution_count": 39,
   "metadata": {
    "collapsed": false
   },
   "outputs": [
    {
     "data": {
      "text/plain": [
       "2.25"
      ]
     },
     "execution_count": 39,
     "metadata": {},
     "output_type": "execute_result"
    }
   ],
   "source": [
    "eagles.score_diff.mean()"
   ]
  },
  {
   "cell_type": "code",
   "execution_count": 40,
   "metadata": {
    "collapsed": true
   },
   "outputs": [],
   "source": [
    "eagles['total_score'] = eagles.away_score + eagles.home_score"
   ]
  },
  {
   "cell_type": "code",
   "execution_count": 41,
   "metadata": {
    "collapsed": false
   },
   "outputs": [
    {
     "data": {
      "text/plain": [
       "43.625"
      ]
     },
     "execution_count": 41,
     "metadata": {},
     "output_type": "execute_result"
    }
   ],
   "source": [
    "eagles.total_score.mean()"
   ]
  },
  {
   "cell_type": "code",
   "execution_count": 43,
   "metadata": {
    "collapsed": false
   },
   "outputs": [
    {
     "name": "stdout",
     "output_type": "stream",
     "text": [
      "eagles won 7 games and lost 9 games.\n"
     ]
    }
   ],
   "source": [
    "games_lost = (eagles.score_diff < 0).sum()\n",
    "games_won = len(eagles.score_diff) - games_lost\n",
    "print(f'eagles won {games_won} games and lost {games_lost} games.')"
   ]
  },
  {
   "cell_type": "markdown",
   "metadata": {
    "deletable": true,
    "editable": true
   },
   "source": [
    "# Neo4j Experiments"
   ]
  },
  {
   "cell_type": "code",
   "execution_count": 42,
   "metadata": {
    "collapsed": true,
    "deletable": true,
    "editable": true
   },
   "outputs": [],
   "source": [
    "graph = py2neo.Graph(bolt=True, password='theone')"
   ]
  },
  {
   "cell_type": "code",
   "execution_count": 51,
   "metadata": {
    "collapsed": false,
    "deletable": true,
    "editable": true
   },
   "outputs": [],
   "source": [
    "@lru_cache(maxsize=None)\n",
    "def mkteam(team):\n",
    "    team_node = py2neo.Node('Team', name=team)\n",
    "    graph.create(team_node)\n",
    "    return team_node"
   ]
  },
  {
   "cell_type": "code",
   "execution_count": null,
   "metadata": {
    "collapsed": true,
    "deletable": true,
    "editable": true
   },
   "outputs": [],
   "source": [
    "def mkgame(week):\n",
    "    game_node = py2neo.Node('Game', week=week)\n",
    "    graph.create(game_node)\n",
    "    return game_node"
   ]
  },
  {
   "cell_type": "code",
   "execution_count": null,
   "metadata": {
    "collapsed": true,
    "deletable": true,
    "editable": true
   },
   "outputs": [],
   "source": [
    "@lru_cache(maxsize=None)\n",
    "def mkweek(week):\n",
    "    week_node = py2neo.Node('Week', week=week)\n",
    "    graph.create(week_node)\n",
    "    return week_node"
   ]
  },
  {
   "cell_type": "code",
   "execution_count": null,
   "metadata": {
    "collapsed": true,
    "deletable": true,
    "editable": true
   },
   "outputs": [],
   "source": [
    "@lru_cache(maxsize=None)\n",
    "def mkseason(year):\n",
    "    season_node = py2neo.Node('Season', year=year)\n",
    "    graph.create(season_node)\n",
    "    return season_node"
   ]
  },
  {
   "cell_type": "code",
   "execution_count": 52,
   "metadata": {
    "collapsed": false,
    "deletable": true,
    "editable": true
   },
   "outputs": [],
   "source": [
    "for game in parsed:\n",
    "    season_node = mkseason(game['year'])\n",
    "    week_node = mkweek(game['week'])\n",
    "    home_team_node = mkteam(game['home_team'])\n",
    "    away_team_node = mkteam(game['away_team'])\n",
    "    game_node = mkgame(game['week'])\n",
    "    \n",
    "    graph.create(py2neo.Relationship(home_team_node, 'PLAYED', game_node, points=game['home_score']))\n",
    "    graph.create(py2neo.Relationship(away_team_node, 'PLAYED', game_node, points=game['away_score']))\n",
    "    graph.create(py2neo.Relationship(game_node, 'PART_OF', week_node))\n",
    "    graph.create(py2neo.Relationship(week_node, 'PART_OF', season_node))"
   ]
  },
  {
   "cell_type": "code",
   "execution_count": 214,
   "metadata": {
    "collapsed": true,
    "deletable": true,
    "editable": true
   },
   "outputs": [],
   "source": [
    "query = \"\"\"\n",
    "match (team:Team)-[:PLAYED]->(game:Game)<-[:PLAYED]-(opponent:Team)\n",
    "where team.name = 'eagles'\n",
    "return team, game, opponent;\n",
    "\"\"\""
   ]
  },
  {
   "cell_type": "code",
   "execution_count": null,
   "metadata": {
    "collapsed": true,
    "deletable": true,
    "editable": true
   },
   "outputs": [],
   "source": [
    "result = graph.run(query)"
   ]
  },
  {
   "cell_type": "code",
   "execution_count": 215,
   "metadata": {
    "collapsed": false,
    "deletable": true,
    "editable": true
   },
   "outputs": [
    {
     "name": "stdout",
     "output_type": "stream",
     "text": [
      "{'team': (eagles:Team {name:\"eagles\"}), 'game': (cdf6dc5:Game), 'opponent': (cowboys:Team {name:\"cowboys\"})}\n",
      "{'team': (eagles:Team {name:\"eagles\"}), 'game': (db7bac8:Game), 'opponent': (giants:Team {name:\"giants\"})}\n",
      "{'team': (eagles:Team {name:\"eagles\"}), 'game': (f15307b:Game), 'opponent': (ravens:Team {name:\"ravens\"})}\n",
      "{'team': (eagles:Team {name:\"eagles\"}), 'game': (d2eb9c8:Game), 'opponent': (redskins:Team {name:\"redskins\"})}\n",
      "{'team': (eagles:Team {name:\"eagles\"}), 'game': (aed8af4:Game), 'opponent': (bengals:Team {name:\"bengals\"})}\n",
      "{'team': (eagles:Team {name:\"eagles\"}), 'game': (a35cef9:Game), 'opponent': (packers:Team {name:\"packers\"})}\n",
      "{'team': (eagles:Team {name:\"eagles\"}), 'game': (fc7f6df:Game), 'opponent': (seahawks:Team {name:\"seahawks\"})}\n",
      "{'team': (eagles:Team {name:\"eagles\"}), 'game': (cbafa58:Game), 'opponent': (falcons:Team {name:\"falcons\"})}\n",
      "{'team': (eagles:Team {name:\"eagles\"}), 'game': (f078bb0:Game), 'opponent': (giants:Team {name:\"giants\"})}\n",
      "{'team': (eagles:Team {name:\"eagles\"}), 'game': (eebd03e:Game), 'opponent': (cowboys:Team {name:\"cowboys\"})}\n",
      "{'team': (eagles:Team {name:\"eagles\"}), 'game': (cd1356c:Game), 'opponent': (vikings:Team {name:\"vikings\"})}\n",
      "{'team': (eagles:Team {name:\"eagles\"}), 'game': (aa10fb7:Game), 'opponent': (redskins:Team {name:\"redskins\"})}\n",
      "{'team': (eagles:Team {name:\"eagles\"}), 'game': (e07cc56:Game), 'opponent': (lions:Team {name:\"lions\"})}\n",
      "{'team': (eagles:Team {name:\"eagles\"}), 'game': (d3026a6:Game), 'opponent': (steelers:Team {name:\"steelers\"})}\n",
      "{'team': (eagles:Team {name:\"eagles\"}), 'game': (b1758e6:Game), 'opponent': (bears:Team {name:\"bears\"})}\n",
      "{'team': (eagles:Team {name:\"eagles\"}), 'game': (e947ba4:Game), 'opponent': (browns:Team {name:\"browns\"})}\n"
     ]
    }
   ],
   "source": [
    "for item in result:\n",
    "    print(item.data())"
   ]
  },
  {
   "cell_type": "code",
   "execution_count": 119,
   "metadata": {
    "collapsed": true,
    "deletable": true,
    "editable": true
   },
   "outputs": [],
   "source": [
    "query = \"\"\"\n",
    "match path=(:Team {name:{team1}})-[:PLAYED*0..4]-(:Team {name:{team2}})\n",
    "return path\n",
    "\"\"\""
   ]
  },
  {
   "cell_type": "code",
   "execution_count": 1,
   "metadata": {
    "collapsed": true,
    "deletable": true,
    "editable": true
   },
   "outputs": [],
   "source": [
    "result = graph.run(query, team1='eagles', team2='giants')"
   ]
  },
  {
   "cell_type": "code",
   "execution_count": 120,
   "metadata": {
    "collapsed": true,
    "deletable": true,
    "editable": true
   },
   "outputs": [],
   "source": [
    "result_lst = list(result)"
   ]
  },
  {
   "cell_type": "code",
   "execution_count": 192,
   "metadata": {
    "collapsed": true,
    "deletable": true,
    "editable": true
   },
   "outputs": [],
   "source": [
    "def chunk(arr, size):\n",
    "    for i in range(0, len(arr), size):\n",
    "        yield arr[i: i+size]"
   ]
  },
  {
   "cell_type": "code",
   "execution_count": 216,
   "metadata": {
    "collapsed": false,
    "deletable": true,
    "editable": true
   },
   "outputs": [
    {
     "name": "stdout",
     "output_type": "stream",
     "text": [
      "[1, 2]\n",
      "[3, 4]\n",
      "[5, 6]\n",
      "[7, 8]\n",
      "[9]\n"
     ]
    }
   ],
   "source": [
    "for ch in chunk([1, 2, 3, 4, 5, 6, 7, 8, 9], 2):\n",
    "    print(ch)"
   ]
  },
  {
   "cell_type": "code",
   "execution_count": 213,
   "metadata": {
    "collapsed": false,
    "deletable": true,
    "editable": true
   },
   "outputs": [
    {
     "name": "stdout",
     "output_type": "stream",
     "text": [
      "eagles lost to cowboys by 6 in week ? and cowboys lost to giants by 1 in week ?\n",
      "eagles beat cowboys by 14 in week ? and cowboys lost to giants by 1 in week ?\n",
      "eagles lost to redskins by 7 in week ? and redskins beat giants by 2 in week ?\n",
      "eagles lost to redskins by 5 in week ? and redskins beat giants by 2 in week ?\n",
      "eagles beat vikings by 11 in week ? and vikings beat giants by 14 in week ?\n",
      "eagles lost to packers by 14 in week ? and packers beat giants by 7 in week ?\n",
      "eagles lost to ravens by 1 in week ? and ravens lost to giants by 4 in week ?\n",
      "eagles lost to giants by 5 in week ?\n",
      "eagles lost to bengals by 18 in week ? and bengals lost to giants by 1 in week ?\n",
      "eagles beat bears by 15 in week ? and bears lost to giants by 6 in week ?\n",
      "eagles beat browns by 19 in week ? and browns lost to giants by 14 in week ?\n",
      "eagles beat steelers by 31 in week ? and steelers beat giants by 10 in week ?\n",
      "eagles lost to cowboys by 6 in week ? and cowboys lost to giants by 3 in week ?\n",
      "eagles beat cowboys by 14 in week ? and cowboys lost to giants by 3 in week ?\n",
      "eagles lost to lions by 1 in week ? and lions lost to giants by 11 in week ?\n",
      "eagles beat giants by 5 in week ?\n",
      "eagles lost to redskins by 7 in week ? and redskins lost to giants by 9 in week ?\n",
      "eagles lost to redskins by 5 in week ? and redskins lost to giants by 9 in week ?\n"
     ]
    }
   ],
   "source": [
    "for path in result_lst:\n",
    "    rels = []\n",
    "    for pth in py2neo.walk(path['path']):\n",
    "        _rels = pth.relationships()\n",
    "        if _rels:\n",
    "            rels.append(_rels)\n",
    "    full_msg = ''\n",
    "    for rel in chunk(rels, 2):\n",
    "        pth1 = rel[0][0]\n",
    "        pth2 = rel[1][0]\n",
    " \n",
    "        t1 = pth1.start_node().get('name')\n",
    "        t1pts = int(dict(pth1).get('points'))\n",
    "        \n",
    "        t2 = pth2.start_node().get('name')\n",
    "        t2pts = int(dict(pth2).get('points'))\n",
    "        \n",
    "        diff = t1pts - t2pts\n",
    "        outcome = 'beat' if diff > 0 else 'lost to'\n",
    "        \n",
    "        msg = f'{t1} {outcome} {t2} by {abs(diff)} in week ?'\n",
    "        full_msg += msg + ' and '\n",
    "    print(full_msg.rstrip(' and '))"
   ]
  },
  {
   "cell_type": "markdown",
   "metadata": {},
   "source": [
    "# Storing data for 2017 season"
   ]
  },
  {
   "cell_type": "code",
   "execution_count": 4,
   "metadata": {
    "collapsed": false,
    "deletable": true,
    "editable": true
   },
   "outputs": [],
   "source": [
    "season = [get_scores('2017', 'REG', str(week)) for week in range(1, 18)]"
   ]
  },
  {
   "cell_type": "code",
   "execution_count": 5,
   "metadata": {
    "collapsed": false,
    "deletable": true,
    "editable": true
   },
   "outputs": [
    {
     "data": {
      "text/plain": [
       "'<?xml version=\"1.0\" encoding=\"UTF-8\"?>\\n<ss><gms gd=\"0\" w=\"1\" y=\"2017\" t=\"R\"><g eid=\"2017090700\" gsis=\"57234\" d=\"Thu\" t=\"8:30\" q=\"P\" k=\"\" h=\"NE\" hnn=\"patriots\" hs=\"\" v=\"KC\" vnn=\"chiefs\" vs=\"\" p=\"\" rz=\"\" ga=\"\" gt=\"REG\"/><g eid=\"2017091000\" gsis=\"57235\" d=\"Sun\" t=\"1:00\" q=\"P\" k=\"\" h=\"BUF\" hnn=\"bills\" hs=\"\" v=\"NYJ\" vnn=\"jets\" vs=\"\" p=\"\" rz=\"\" ga=\"\" gt=\"REG\"/><g eid=\"2017091001\" gsis=\"57236\" d=\"Sun\" t=\"1:00\" q=\"P\" k=\"\" h=\"CHI\" hnn=\"bears\" hs=\"\" v=\"ATL\" vnn=\"falcons\" vs=\"\" p=\"\" rz=\"\" ga=\"\" gt=\"REG\"/><g eid=\"2017091002\" gsis=\"57237\" d=\"Sun\" t=\"1:00\" q=\"P\" k=\"\" h=\"CIN\" hnn=\"bengals\" hs=\"\" v=\"BAL\" vnn=\"ravens\" vs=\"\" p=\"\" rz=\"\" ga=\"\" gt=\"REG\"/><g eid=\"2017091003\" gsis=\"57238\" d=\"Sun\" t=\"1:00\" q=\"P\" k=\"\" h=\"CLE\" hnn=\"browns\" hs=\"\" v=\"PIT\" vnn=\"steelers\" vs=\"\" p=\"\" rz=\"\" ga=\"\" gt=\"REG\"/><g eid=\"2017091004\" gsis=\"57239\" d=\"Sun\" t=\"1:00\" q=\"P\" k=\"\" h=\"DET\" hnn=\"lions\" hs=\"\" v=\"ARI\" vnn=\"cardinals\" vs=\"\" p=\"\" rz=\"\" ga=\"\" gt=\"REG\"/><g eid=\"2017091005\" gsis=\"57240\" d=\"Sun\" t=\"1:00\" q=\"P\" k=\"\" h=\"HOU\" hnn=\"texans\" hs=\"\" v=\"JAX\" vnn=\"jaguars\" vs=\"\" p=\"\" rz=\"\" ga=\"\" gt=\"REG\"/><g eid=\"2017091006\" gsis=\"57241\" d=\"Sun\" t=\"1:00\" q=\"P\" k=\"\" h=\"MIA\" hnn=\"dolphins\" hs=\"\" v=\"TB\" vnn=\"buccaneers\" vs=\"\" p=\"\" rz=\"\" ga=\"\" gt=\"REG\"/><g eid=\"2017091007\" gsis=\"57242\" d=\"Sun\" t=\"1:00\" q=\"P\" k=\"\" h=\"TEN\" hnn=\"titans\" hs=\"\" v=\"OAK\" vnn=\"raiders\" vs=\"\" p=\"\" rz=\"\" ga=\"\" gt=\"REG\"/><g eid=\"2017091008\" gsis=\"57243\" d=\"Sun\" t=\"1:00\" q=\"P\" k=\"\" h=\"WAS\" hnn=\"redskins\" hs=\"\" v=\"PHI\" vnn=\"eagles\" vs=\"\" p=\"\" rz=\"\" ga=\"\" gt=\"REG\"/><g eid=\"2017091009\" gsis=\"57244\" d=\"Sun\" t=\"4:05\" q=\"P\" k=\"\" h=\"LA\" hnn=\"rams\" hs=\"\" v=\"IND\" vnn=\"colts\" vs=\"\" p=\"\" rz=\"\" ga=\"\" gt=\"REG\"/><g eid=\"2017091010\" gsis=\"57245\" d=\"Sun\" t=\"4:25\" q=\"P\" k=\"\" h=\"GB\" hnn=\"packers\" hs=\"\" v=\"SEA\" vnn=\"seahawks\" vs=\"\" p=\"\" rz=\"\" ga=\"\" gt=\"REG\"/><g eid=\"2017091011\" gsis=\"57246\" d=\"Sun\" t=\"4:25\" q=\"P\" k=\"\" h=\"SF\" hnn=\"49ers\" hs=\"\" v=\"CAR\" vnn=\"panthers\" vs=\"\" p=\"\" rz=\"\" ga=\"\" gt=\"REG\"/><g eid=\"2017091012\" gsis=\"57247\" d=\"Sun\" t=\"8:30\" q=\"P\" k=\"\" h=\"DAL\" hnn=\"cowboys\" hs=\"\" v=\"NYG\" vnn=\"giants\" vs=\"\" p=\"\" rz=\"\" ga=\"\" gt=\"REG\"/><g eid=\"2017091100\" gsis=\"57248\" d=\"Mon\" t=\"7:10\" q=\"P\" k=\"\" h=\"MIN\" hnn=\"vikings\" hs=\"\" v=\"NO\" vnn=\"saints\" vs=\"\" p=\"\" rz=\"\" ga=\"\" gt=\"REG\"/><g eid=\"2017091101\" gsis=\"57249\" d=\"Mon\" t=\"10:20\" q=\"P\" k=\"\" h=\"DEN\" hnn=\"broncos\" hs=\"\" v=\"LAC\" vnn=\"chargers\" vs=\"\" p=\"\" rz=\"\" ga=\"\" gt=\"REG\"/></gms></ss>'"
      ]
     },
     "execution_count": 5,
     "metadata": {},
     "output_type": "execute_result"
    }
   ],
   "source": [
    "season[0]"
   ]
  },
  {
   "cell_type": "code",
   "execution_count": 6,
   "metadata": {
    "collapsed": false,
    "deletable": true,
    "editable": true
   },
   "outputs": [],
   "source": [
    "parsed = [game for week in season for game in parse_xml(week)]"
   ]
  },
  {
   "cell_type": "code",
   "execution_count": 9,
   "metadata": {
    "collapsed": false,
    "deletable": true,
    "editable": true
   },
   "outputs": [
    {
     "data": {
      "text/plain": [
       "256"
      ]
     },
     "execution_count": 9,
     "metadata": {},
     "output_type": "execute_result"
    }
   ],
   "source": [
    "len(parsed)"
   ]
  },
  {
   "cell_type": "code",
   "execution_count": 10,
   "metadata": {
    "collapsed": false,
    "deletable": true,
    "editable": true
   },
   "outputs": [
    {
     "data": {
      "text/plain": [
       "({'away_score': '',\n",
       "  'away_team': 'chiefs',\n",
       "  'home_score': '',\n",
       "  'home_team': 'patriots',\n",
       "  'week': '1',\n",
       "  'year': '2017'},\n",
       " {'away_score': '',\n",
       "  'away_team': '49ers',\n",
       "  'home_score': '',\n",
       "  'home_team': 'rams',\n",
       "  'week': '17',\n",
       "  'year': '2017'})"
      ]
     },
     "execution_count": 10,
     "metadata": {},
     "output_type": "execute_result"
    }
   ],
   "source": [
    "parsed[0], parsed[-1]"
   ]
  },
  {
   "cell_type": "code",
   "execution_count": 7,
   "metadata": {
    "collapsed": true,
    "deletable": true,
    "editable": true
   },
   "outputs": [],
   "source": [
    "with open('./data/nfl_schedule_2017.json') as f:\n",
    "    json.dump(parsed, f)"
   ]
  }
 ],
 "metadata": {
  "kernelspec": {
   "display_name": "Python 3",
   "language": "python",
   "name": "python3"
  },
  "language_info": {
   "codemirror_mode": {
    "name": "ipython",
    "version": 3
   },
   "file_extension": ".py",
   "mimetype": "text/x-python",
   "name": "python",
   "nbconvert_exporter": "python",
   "pygments_lexer": "ipython3",
   "version": "3.6.1"
  }
 },
 "nbformat": 4,
 "nbformat_minor": 2
}
