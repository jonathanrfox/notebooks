{
 "cells": [
  {
   "cell_type": "markdown",
   "metadata": {
    "deletable": true,
    "editable": true
   },
   "source": [
    "# Playing with google maps api and nfl teams schedule. \n",
    "\n",
    "*Does not take into account london games"
   ]
  },
  {
   "cell_type": "code",
   "execution_count": 1,
   "metadata": {
    "collapsed": true,
    "deletable": true,
    "editable": true
   },
   "outputs": [],
   "source": [
    "import functools\n",
    "import json\n",
    "import os\n",
    "from pprint import pprint\n",
    "import re\n",
    "\n",
    "import numpy as np\n",
    "import pandas as pd\n",
    "import requests"
   ]
  },
  {
   "cell_type": "code",
   "execution_count": 6,
   "metadata": {
    "collapsed": true,
    "deletable": true,
    "editable": true
   },
   "outputs": [],
   "source": [
    "pd.set_option('notebook_repr_html', False)"
   ]
  },
  {
   "cell_type": "code",
   "execution_count": 58,
   "metadata": {
    "collapsed": true,
    "deletable": true,
    "editable": true
   },
   "outputs": [],
   "source": [
    "%matplotlib inline"
   ]
  },
  {
   "cell_type": "code",
   "execution_count": null,
   "metadata": {
    "collapsed": true,
    "deletable": true,
    "editable": true
   },
   "outputs": [],
   "source": [
    "KEY = os.environ['GOOG_API_KEY']"
   ]
  },
  {
   "cell_type": "code",
   "execution_count": 4,
   "metadata": {
    "collapsed": true,
    "deletable": true,
    "editable": true
   },
   "outputs": [],
   "source": [
    "URL = 'https://maps.googleapis.com/maps/api/distancematrix/json?units=imperial'"
   ]
  },
  {
   "cell_type": "markdown",
   "metadata": {
    "deletable": true,
    "editable": true
   },
   "source": [
    "Test google maps api using Patriots/Dolphins"
   ]
  },
  {
   "cell_type": "code",
   "execution_count": 5,
   "metadata": {
    "collapsed": true,
    "deletable": true,
    "editable": true
   },
   "outputs": [],
   "source": [
    "orig = '25.958056,-80.238889'\n",
    "dest = '42.090833,-71.264167'"
   ]
  },
  {
   "cell_type": "code",
   "execution_count": 6,
   "metadata": {
    "collapsed": true,
    "deletable": true,
    "editable": true
   },
   "outputs": [],
   "source": [
    "r = requests.get(f'{URL}&origins={orig}&destinations={dest}&key={KEY}')"
   ]
  },
  {
   "cell_type": "code",
   "execution_count": 7,
   "metadata": {
    "collapsed": false,
    "deletable": true,
    "editable": true
   },
   "outputs": [],
   "source": [
    "r.status_code"
   ]
  },
  {
   "cell_type": "code",
   "execution_count": 10,
   "metadata": {
    "collapsed": false,
    "deletable": true,
    "editable": true
   },
   "outputs": [
    {
     "name": "stdout",
     "output_type": "stream",
     "text": [
      "{'destination_addresses': ['2 Patriot Pl, Foxborough, MA 02035, USA'],\n",
      " 'origin_addresses': ['347 Don Shula Dr, Miami Gardens, FL 33056, USA'],\n",
      " 'rows': [{'elements': [{'distance': {'text': '1,467 mi', 'value': 2360755},\n",
      "                         'duration': {'text': '21 hours 28 mins',\n",
      "                                      'value': 77287},\n",
      "                         'status': 'OK'}]}],\n",
      " 'status': 'OK'}\n"
     ]
    }
   ],
   "source": [
    "pprint(r.json())"
   ]
  },
  {
   "cell_type": "code",
   "execution_count": 2,
   "metadata": {
    "collapsed": false,
    "deletable": true,
    "editable": true
   },
   "outputs": [],
   "source": [
    "with open('./data/nfl_stadium_coords.json') as f:\n",
    "    coords = json.load(f)"
   ]
  },
  {
   "cell_type": "code",
   "execution_count": 3,
   "metadata": {
    "collapsed": false,
    "deletable": true,
    "editable": true
   },
   "outputs": [
    {
     "data": {
      "text/plain": [
       "{'lat': '25.958056',\n",
       " 'long': '-80.238889',\n",
       " 'stadium': 'sun life stadium',\n",
       " 'team': 'dolphins'}"
      ]
     },
     "execution_count": 3,
     "metadata": {},
     "output_type": "execute_result"
    }
   ],
   "source": [
    "coords[0]"
   ]
  },
  {
   "cell_type": "code",
   "execution_count": 4,
   "metadata": {
    "collapsed": true,
    "deletable": true,
    "editable": true
   },
   "outputs": [],
   "source": [
    "df = pd.DataFrame(coords)"
   ]
  },
  {
   "cell_type": "code",
   "execution_count": 7,
   "metadata": {
    "collapsed": false,
    "deletable": true,
    "editable": true
   },
   "outputs": [
    {
     "data": {
      "text/plain": [
       "          lat         long               stadium      team\n",
       "0   25.958056   -80.238889      sun life stadium  dolphins\n",
       "1   42.090833   -71.264167       gilette stadium  patriots\n",
       "2      42.774      -78.787  ralph wilson stadium     bills\n",
       "3  40.8139642  -74.0745057       metlife stadium      jets\n",
       "4   40.446667   -80.015833           heinz field  steelers"
      ]
     },
     "execution_count": 7,
     "metadata": {},
     "output_type": "execute_result"
    }
   ],
   "source": [
    "df.head()"
   ]
  },
  {
   "cell_type": "code",
   "execution_count": 12,
   "metadata": {
    "collapsed": true,
    "deletable": true,
    "editable": true
   },
   "outputs": [],
   "source": [
    "def _get_lat_long(df, team):\n",
    "    row = df[df.team == team]\n",
    "    return row.lat.iloc[0], row.long.iloc[0]\n",
    "\n",
    "get_lat_long = functools.partial(_get_lat_long, df)"
   ]
  },
  {
   "cell_type": "code",
   "execution_count": 13,
   "metadata": {
    "collapsed": true,
    "deletable": true,
    "editable": true
   },
   "outputs": [],
   "source": [
    "def parse_response(resp):\n",
    "    result = resp['rows'][0]['elements'][0]['distance']['text']\n",
    "    return int(re.sub(r'\\D', '', result))"
   ]
  },
  {
   "cell_type": "code",
   "execution_count": 14,
   "metadata": {
    "collapsed": false,
    "deletable": true,
    "editable": true
   },
   "outputs": [],
   "source": [
    "def get_miles_between(t1, t2):\n",
    "    t1_lat, t1_long = get_lat_long(t1)\n",
    "    t2_lat, t2_long = get_lat_long(t2)\n",
    "    \n",
    "    r = requests.get(f'{URL}&origins={t1_lat},{t1_long}&destinations={t2_lat},{t2_long}&key={KEY}')\n",
    "\n",
    "    if r.status_code == requests.status_codes.codes.ok:\n",
    "        return parse_response(r.json())\n",
    "    return 0"
   ]
  },
  {
   "cell_type": "code",
   "execution_count": 15,
   "metadata": {
    "collapsed": true,
    "deletable": true,
    "editable": true
   },
   "outputs": [],
   "source": [
    "def mkdistdata(nfl_schedule):\n",
    "    for i, game in enumerate(nfl_schedule):\n",
    "        distance = get_miles_between(game['home_team'], game['away_team'])\n",
    "        nfl_schedule[i]['distance'] = distance\n",
    "    return nfl_schedule"
   ]
  },
  {
   "cell_type": "code",
   "execution_count": 16,
   "metadata": {
    "collapsed": false,
    "deletable": true,
    "editable": true,
    "scrolled": true
   },
   "outputs": [],
   "source": [
    "with open('./data/nfl_schedule_2017.json') as f:\n",
    "    dist_df = pd.DataFrame(mkdistdata(json.load(f)))"
   ]
  },
  {
   "cell_type": "code",
   "execution_count": 17,
   "metadata": {
    "collapsed": false,
    "deletable": true,
    "editable": true
   },
   "outputs": [],
   "source": [
    "try:\n",
    "    dist_df.drop('away_score', axis=1, inplace=True)\n",
    "    dist_df.drop('home_score', axis=1, inplace=True)\n",
    "except ValueError:\n",
    "    pass"
   ]
  },
  {
   "cell_type": "markdown",
   "metadata": {
    "deletable": true,
    "editable": true
   },
   "source": [
    "Using double the distance to account for trip back"
   ]
  },
  {
   "cell_type": "code",
   "execution_count": 18,
   "metadata": {
    "collapsed": true,
    "deletable": true,
    "editable": true
   },
   "outputs": [],
   "source": [
    "dist_df['twice_distance'] = dist_df.distance * 2"
   ]
  },
  {
   "cell_type": "code",
   "execution_count": 22,
   "metadata": {
    "collapsed": false,
    "deletable": true,
    "editable": true
   },
   "outputs": [
    {
     "data": {
      "text/plain": [
       "    away_team  distance home_team  twice_distance week  year\n",
       "0      chiefs    1422.0  patriots          2844.0    1  2017\n",
       "1        jets     363.0     bills           726.0    1  2017\n",
       "10      colts    2072.0      rams          4144.0    1  2017\n",
       "100    ravens    1113.0   vikings          2226.0    7  2017\n",
       "101   bengals     290.0  steelers           580.0    7  2017"
      ]
     },
     "execution_count": 22,
     "metadata": {},
     "output_type": "execute_result"
    }
   ],
   "source": [
    "dist_df.head()"
   ]
  },
  {
   "cell_type": "code",
   "execution_count": 80,
   "metadata": {
    "collapsed": true,
    "deletable": true,
    "editable": true
   },
   "outputs": [],
   "source": [
    "schedule_with_distances_fn = './data/schedule_with_distances.json'"
   ]
  },
  {
   "cell_type": "markdown",
   "metadata": {
    "deletable": true,
    "editable": true
   },
   "source": [
    "Export"
   ]
  },
  {
   "cell_type": "code",
   "execution_count": 41,
   "metadata": {
    "collapsed": true,
    "deletable": true,
    "editable": true
   },
   "outputs": [],
   "source": [
    "if not os.path.exists(schedule_with_distances_fn):\n",
    "    dist_df.to_json(schedule_with_distances_fn)"
   ]
  },
  {
   "cell_type": "markdown",
   "metadata": {
    "deletable": true,
    "editable": true
   },
   "source": [
    "Import"
   ]
  },
  {
   "cell_type": "code",
   "execution_count": 42,
   "metadata": {
    "collapsed": false,
    "deletable": true,
    "editable": true
   },
   "outputs": [],
   "source": [
    "with open(schedule_with_distances_fn) as f:\n",
    "    dist_df = pd.DataFrame(json.load(f))"
   ]
  },
  {
   "cell_type": "code",
   "execution_count": 49,
   "metadata": {
    "collapsed": true,
    "deletable": true,
    "editable": true
   },
   "outputs": [],
   "source": [
    "dist_df.week = pd.to_numeric(dist_df.week)"
   ]
  },
  {
   "cell_type": "markdown",
   "metadata": {
    "deletable": true,
    "editable": true
   },
   "source": [
    "Summary of distances"
   ]
  },
  {
   "cell_type": "code",
   "execution_count": 63,
   "metadata": {
    "collapsed": false,
    "deletable": true,
    "editable": true
   },
   "outputs": [
    {
     "data": {
      "text/plain": [
       "count     256.000000\n",
       "mean     2375.976562\n",
       "std      1612.186575\n",
       "min       224.000000\n",
       "25%      1097.000000\n",
       "50%      1991.000000\n",
       "75%      3341.000000\n",
       "max      6196.000000\n",
       "Name: twice_distance, dtype: float64"
      ]
     },
     "execution_count": 63,
     "metadata": {},
     "output_type": "execute_result"
    }
   ],
   "source": [
    "dist_df.twice_distance.describe()"
   ]
  },
  {
   "cell_type": "code",
   "execution_count": 78,
   "metadata": {
    "collapsed": false,
    "deletable": true,
    "editable": true
   },
   "outputs": [
    {
     "data": {
      "text/plain": [
       "<matplotlib.axes._subplots.AxesSubplot at 0x7ff08c86b438>"
      ]
     },
     "execution_count": 78,
     "metadata": {},
     "output_type": "execute_result"
    },
    {
     "data": {
      "image/png": "[encoded data removed]",
      "text/plain": [
       "<matplotlib.figure.Figure at 0x7ff08c5bd240>"
      ]
     },
     "metadata": {},
     "output_type": "display_data"
    }
   ],
   "source": [
    "dist_df.twice_distance.hist()"
   ]
  },
  {
   "cell_type": "code",
   "execution_count": 76,
   "metadata": {
    "collapsed": true,
    "deletable": true,
    "editable": true
   },
   "outputs": [],
   "source": [
    "totals = dist_df.groupby('away_team').twice_distance.sum()"
   ]
  },
  {
   "cell_type": "code",
   "execution_count": 79,
   "metadata": {
    "collapsed": false,
    "deletable": true,
    "editable": true
   },
   "outputs": [
    {
     "data": {
      "text/plain": [
       "<matplotlib.axes._subplots.AxesSubplot at 0x7ff0885d0eb8>"
      ]
     },
     "execution_count": 79,
     "metadata": {},
     "output_type": "execute_result"
    },
    {
     "data": {
      "image/png": "[encoded data removed]",
      "text/plain": [
       "<matplotlib.figure.Figure at 0x7ff088561a20>"
      ]
     },
     "metadata": {},
     "output_type": "display_data"
    }
   ],
   "source": [
    "totals.hist()"
   ]
  },
  {
   "cell_type": "markdown",
   "metadata": {
    "deletable": true,
    "editable": true
   },
   "source": [
    "Disparity between highest and lowest travelling teams"
   ]
  },
  {
   "cell_type": "code",
   "execution_count": 77,
   "metadata": {
    "collapsed": false,
    "deletable": true,
    "editable": true
   },
   "outputs": [
    {
     "name": "stdout",
     "output_type": "stream",
     "text": [
      "Raiders travel 4.36 times as many miles as the Steelers.\n"
     ]
    }
   ],
   "source": [
    "ratio = totals[totals.idxmax()] / totals[totals.idxmin()]\n",
    "max_tm, min_tm = totals.idxmax().capitalize(), totals.idxmin().capitalize()\n",
    "print(f'{max_tm} travel {ratio:.2f} times as many miles as the {min_tm}.')"
   ]
  },
  {
   "cell_type": "code",
   "execution_count": 53,
   "metadata": {
    "collapsed": false,
    "deletable": true,
    "editable": true
   },
   "outputs": [],
   "source": [
    "def team_details(df, team):\n",
    "    team_df = df[(df.home_team == team) | (df.away_team == team)].copy()\n",
    "    team_df.reset_index(drop=True, inplace=True)\n",
    "    team_df.loc[team_df.home_team == team, 'twice_distance'] = 0\n",
    "    team_df['cum_dist'] = team_df.sort_values(by='week').twice_distance.cumsum()\n",
    "    return team_df.sort_values(by='week')"
   ]
  },
  {
   "cell_type": "markdown",
   "metadata": {
    "deletable": true,
    "editable": true
   },
   "source": [
    "Eagles travel schedule"
   ]
  },
  {
   "cell_type": "code",
   "execution_count": 62,
   "metadata": {
    "collapsed": false,
    "deletable": true,
    "editable": true
   },
   "outputs": [
    {
     "name": "stdout",
     "output_type": "stream",
     "text": [
      "    away_team  distance home_team  twice_distance  week  year  cum_dist\n",
      "15     eagles     129.0  redskins           258.0     1  2017     258.0\n",
      "7      eagles    1123.0    chiefs          2246.0     2  2017    2504.0\n",
      "11     giants     957.0    eagles             0.0     3  2017    2504.0\n",
      "12     eagles    2733.0  chargers          5466.0     4  2017    7970.0\n",
      "13  cardinals    2394.0    eagles             0.0     5  2017    7970.0\n",
      "14     eagles     532.0  panthers          1064.0     6  2017    9034.0\n",
      "0    redskins     129.0    eagles             0.0     7  2017    9034.0\n",
      "1       49ers    2907.0    eagles             0.0     8  2017    9034.0\n",
      "2     broncos    1732.0    eagles             0.0     9  2017    9034.0\n",
      "3      eagles    1480.0   cowboys          2960.0    11  2017   11994.0\n",
      "4       bears     763.0    eagles             0.0    12  2017   11994.0\n",
      "5      eagles    2831.0  seahawks          5662.0    13  2017   17656.0\n",
      "6      eagles    2720.0      rams          5440.0    14  2017   23096.0\n",
      "8      eagles     958.0    giants          1916.0    15  2017   25012.0\n",
      "9     raiders    2880.0    eagles             0.0    16  2017   25012.0\n",
      "10    cowboys    1479.0    eagles             0.0    17  2017   25012.0\n"
     ]
    }
   ],
   "source": [
    "eagles_df = team_details(dist_df, 'eagles')\n",
    "print(eagles_df)"
   ]
  },
  {
   "cell_type": "code",
   "execution_count": 61,
   "metadata": {
    "collapsed": false,
    "deletable": true,
    "editable": true
   },
   "outputs": [
    {
     "data": {
      "text/plain": [
       "<matplotlib.axes._subplots.AxesSubplot at 0x7ff0887d2780>"
      ]
     },
     "execution_count": 61,
     "metadata": {},
     "output_type": "execute_result"
    },
    {
     "data": {
      "image/png": "[encoded data removed]",
      "text/plain": [
       "<matplotlib.figure.Figure at 0x7ff088728ef0>"
      ]
     },
     "metadata": {},
     "output_type": "display_data"
    }
   ],
   "source": [
    "eagles_df.plot(x='week', y='cum_dist')"
   ]
  }
 ],
 "metadata": {
  "kernelspec": {
   "display_name": "Python 3",
   "language": "python",
   "name": "python3"
  },
  "language_info": {
   "codemirror_mode": {
    "name": "ipython",
    "version": 3
   },
   "file_extension": ".py",
   "mimetype": "text/x-python",
   "name": "python",
   "nbconvert_exporter": "python",
   "pygments_lexer": "ipython3",
   "version": "3.6.1"
  }
 },
 "nbformat": 4,
 "nbformat_minor": 2
}
